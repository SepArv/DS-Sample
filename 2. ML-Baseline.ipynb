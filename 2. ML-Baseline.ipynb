{
 "cells": [
  {
   "cell_type": "markdown",
   "id": "52cd6623",
   "metadata": {},
   "source": [
    "In this notebook the \"MSFT\" stock data is loaded and attempts are made to build a Machine Learning model to predict if following day stock Closing price will be higher than the day before (Closing price indicator) using Random Forest classifier. Classifier principal metrics are calculated (Recall, Precission, Accuracy, F1 score and confusion matrix). Procedure is repeated and same metrics are provided after slight feature engineering. The results obtained here act as a baseline for the subsequent work.   "
   ]
  },
  {
   "cell_type": "markdown",
   "id": "74635f59",
   "metadata": {},
   "source": [
    "<a id=\"top\"></a>\n",
    "1. [Data collection and processing](#01)  \n",
    "    1. [Feature engineering](#011)\n",
    "1. [Random Forest Classifier predictions](#02)\n",
    "1. [LTSM for Closing price prediction](#03)\n",
    "1. [Follow up](#04)"
   ]
  },
  {
   "cell_type": "markdown",
   "id": "d8f08f50",
   "metadata": {},
   "source": [
    "<a id=\"01\"></a> \n",
    "# Data collection and processing\n",
    "[back to top](#top)"
   ]
  },
  {
   "cell_type": "code",
   "execution_count": 42,
   "id": "30be5617",
   "metadata": {},
   "outputs": [
    {
     "data": {
      "text/html": [
       "<div>\n",
       "<style scoped>\n",
       "    .dataframe tbody tr th:only-of-type {\n",
       "        vertical-align: middle;\n",
       "    }\n",
       "\n",
       "    .dataframe tbody tr th {\n",
       "        vertical-align: top;\n",
       "    }\n",
       "\n",
       "    .dataframe thead th {\n",
       "        text-align: right;\n",
       "    }\n",
       "</style>\n",
       "<table border=\"1\" class=\"dataframe\">\n",
       "  <thead>\n",
       "    <tr style=\"text-align: right;\">\n",
       "      <th></th>\n",
       "      <th>Open</th>\n",
       "      <th>High</th>\n",
       "      <th>Low</th>\n",
       "      <th>Close</th>\n",
       "      <th>Volume</th>\n",
       "      <th>Dividends</th>\n",
       "      <th>Stock Splits</th>\n",
       "    </tr>\n",
       "    <tr>\n",
       "      <th>Date</th>\n",
       "      <th></th>\n",
       "      <th></th>\n",
       "      <th></th>\n",
       "      <th></th>\n",
       "      <th></th>\n",
       "      <th></th>\n",
       "      <th></th>\n",
       "    </tr>\n",
       "  </thead>\n",
       "  <tbody>\n",
       "    <tr>\n",
       "      <th>1986-03-13 00:00:00-05:00</th>\n",
       "      <td>0.055121</td>\n",
       "      <td>0.063227</td>\n",
       "      <td>0.055121</td>\n",
       "      <td>0.060524</td>\n",
       "      <td>1031788800</td>\n",
       "      <td>0.0</td>\n",
       "      <td>0.0</td>\n",
       "    </tr>\n",
       "    <tr>\n",
       "      <th>1986-03-14 00:00:00-05:00</th>\n",
       "      <td>0.060524</td>\n",
       "      <td>0.063767</td>\n",
       "      <td>0.060524</td>\n",
       "      <td>0.062686</td>\n",
       "      <td>308160000</td>\n",
       "      <td>0.0</td>\n",
       "      <td>0.0</td>\n",
       "    </tr>\n",
       "    <tr>\n",
       "      <th>1986-03-17 00:00:00-05:00</th>\n",
       "      <td>0.062686</td>\n",
       "      <td>0.064307</td>\n",
       "      <td>0.062686</td>\n",
       "      <td>0.063767</td>\n",
       "      <td>133171200</td>\n",
       "      <td>0.0</td>\n",
       "      <td>0.0</td>\n",
       "    </tr>\n",
       "    <tr>\n",
       "      <th>1986-03-18 00:00:00-05:00</th>\n",
       "      <td>0.063767</td>\n",
       "      <td>0.064307</td>\n",
       "      <td>0.061605</td>\n",
       "      <td>0.062145</td>\n",
       "      <td>67766400</td>\n",
       "      <td>0.0</td>\n",
       "      <td>0.0</td>\n",
       "    </tr>\n",
       "    <tr>\n",
       "      <th>1986-03-19 00:00:00-05:00</th>\n",
       "      <td>0.062145</td>\n",
       "      <td>0.062686</td>\n",
       "      <td>0.060524</td>\n",
       "      <td>0.061065</td>\n",
       "      <td>47894400</td>\n",
       "      <td>0.0</td>\n",
       "      <td>0.0</td>\n",
       "    </tr>\n",
       "  </tbody>\n",
       "</table>\n",
       "</div>"
      ],
      "text/plain": [
       "                               Open      High       Low     Close      Volume  \\\n",
       "Date                                                                            \n",
       "1986-03-13 00:00:00-05:00  0.055121  0.063227  0.055121  0.060524  1031788800   \n",
       "1986-03-14 00:00:00-05:00  0.060524  0.063767  0.060524  0.062686   308160000   \n",
       "1986-03-17 00:00:00-05:00  0.062686  0.064307  0.062686  0.063767   133171200   \n",
       "1986-03-18 00:00:00-05:00  0.063767  0.064307  0.061605  0.062145    67766400   \n",
       "1986-03-19 00:00:00-05:00  0.062145  0.062686  0.060524  0.061065    47894400   \n",
       "\n",
       "                           Dividends  Stock Splits  \n",
       "Date                                                \n",
       "1986-03-13 00:00:00-05:00        0.0           0.0  \n",
       "1986-03-14 00:00:00-05:00        0.0           0.0  \n",
       "1986-03-17 00:00:00-05:00        0.0           0.0  \n",
       "1986-03-18 00:00:00-05:00        0.0           0.0  \n",
       "1986-03-19 00:00:00-05:00        0.0           0.0  "
      ]
     },
     "execution_count": 42,
     "metadata": {},
     "output_type": "execute_result"
    }
   ],
   "source": [
    "import pandas as pd\n",
    "import numpy as np\n",
    "import yfinance as yf\n",
    "\n",
    "ticker = 'MSFT'\n",
    "ticker_data = yf.Ticker(ticker)\n",
    "\n",
    "data = ticker_data.history(period=\"max\")\n",
    "data.head()\n"
   ]
  },
  {
   "cell_type": "code",
   "execution_count": 43,
   "id": "292863a3",
   "metadata": {},
   "outputs": [],
   "source": [
    "hist= data.copy(deep=True)"
   ]
  },
  {
   "cell_type": "code",
   "execution_count": 44,
   "id": "8e1f5d77",
   "metadata": {},
   "outputs": [
    {
     "data": {
      "text/plain": [
       "<Axes: xlabel='Date'>"
      ]
     },
     "execution_count": 44,
     "metadata": {},
     "output_type": "execute_result"
    },
    {
     "data": {
      "image/png": "[encoded data removed]",
      "text/plain": [
       "<Figure size 640x480 with 1 Axes>"
      ]
     },
     "metadata": {},
     "output_type": "display_data"
    }
   ],
   "source": [
    "hist.plot.line(y=\"Close\", use_index=True)"
   ]
  },
  {
   "cell_type": "code",
   "execution_count": 45,
   "id": "70e1c65b",
   "metadata": {},
   "outputs": [],
   "source": [
    "del hist[\"Dividends\"]\n",
    "del hist[\"Stock Splits\"]"
   ]
  },
  {
   "cell_type": "code",
   "execution_count": 46,
   "id": "d118dbc2",
   "metadata": {},
   "outputs": [],
   "source": [
    "hist[\"Tomorrow\"] = hist[\"Close\"].shift(-1)\n",
    "hist[\"Target\"] = (hist[\"Tomorrow\"] > hist[\"Close\"]).astype(int)"
   ]
  },
  {
   "cell_type": "code",
   "execution_count": 47,
   "id": "1fb07c25",
   "metadata": {},
   "outputs": [],
   "source": [
    "hist = hist.loc[\"2000-01-01\":].copy()"
   ]
  },
  {
   "cell_type": "code",
   "execution_count": 48,
   "id": "610bf0e7",
   "metadata": {},
   "outputs": [
    {
     "data": {
      "text/html": [
       "<style>#sk-container-id-2 {color: black;background-color: white;}#sk-container-id-2 pre{padding: 0;}#sk-container-id-2 div.sk-toggleable {background-color: white;}#sk-container-id-2 label.sk-toggleable__label {cursor: pointer;display: block;width: 100%;margin-bottom: 0;padding: 0.3em;box-sizing: border-box;text-align: center;}#sk-container-id-2 label.sk-toggleable__label-arrow:before {content: \"▸\";float: left;margin-right: 0.25em;color: #696969;}#sk-container-id-2 label.sk-toggleable__label-arrow:hover:before {color: black;}#sk-container-id-2 div.sk-estimator:hover label.sk-toggleable__label-arrow:before {color: black;}#sk-container-id-2 div.sk-toggleable__content {max-height: 0;max-width: 0;overflow: hidden;text-align: left;background-color: #f0f8ff;}#sk-container-id-2 div.sk-toggleable__content pre {margin: 0.2em;color: black;border-radius: 0.25em;background-color: #f0f8ff;}#sk-container-id-2 input.sk-toggleable__control:checked~div.sk-toggleable__content {max-height: 200px;max-width: 100%;overflow: auto;}#sk-container-id-2 input.sk-toggleable__control:checked~label.sk-toggleable__label-arrow:before {content: \"▾\";}#sk-container-id-2 div.sk-estimator input.sk-toggleable__control:checked~label.sk-toggleable__label {background-color: #d4ebff;}#sk-container-id-2 div.sk-label input.sk-toggleable__control:checked~label.sk-toggleable__label {background-color: #d4ebff;}#sk-container-id-2 input.sk-hidden--visually {border: 0;clip: rect(1px 1px 1px 1px);clip: rect(1px, 1px, 1px, 1px);height: 1px;margin: -1px;overflow: hidden;padding: 0;position: absolute;width: 1px;}#sk-container-id-2 div.sk-estimator {font-family: monospace;background-color: #f0f8ff;border: 1px dotted black;border-radius: 0.25em;box-sizing: border-box;margin-bottom: 0.5em;}#sk-container-id-2 div.sk-estimator:hover {background-color: #d4ebff;}#sk-container-id-2 div.sk-parallel-item::after {content: \"\";width: 100%;border-bottom: 1px solid gray;flex-grow: 1;}#sk-container-id-2 div.sk-label:hover label.sk-toggleable__label {background-color: #d4ebff;}#sk-container-id-2 div.sk-serial::before {content: \"\";position: absolute;border-left: 1px solid gray;box-sizing: border-box;top: 0;bottom: 0;left: 50%;z-index: 0;}#sk-container-id-2 div.sk-serial {display: flex;flex-direction: column;align-items: center;background-color: white;padding-right: 0.2em;padding-left: 0.2em;position: relative;}#sk-container-id-2 div.sk-item {position: relative;z-index: 1;}#sk-container-id-2 div.sk-parallel {display: flex;align-items: stretch;justify-content: center;background-color: white;position: relative;}#sk-container-id-2 div.sk-item::before, #sk-container-id-2 div.sk-parallel-item::before {content: \"\";position: absolute;border-left: 1px solid gray;box-sizing: border-box;top: 0;bottom: 0;left: 50%;z-index: -1;}#sk-container-id-2 div.sk-parallel-item {display: flex;flex-direction: column;z-index: 1;position: relative;background-color: white;}#sk-container-id-2 div.sk-parallel-item:first-child::after {align-self: flex-end;width: 50%;}#sk-container-id-2 div.sk-parallel-item:last-child::after {align-self: flex-start;width: 50%;}#sk-container-id-2 div.sk-parallel-item:only-child::after {width: 0;}#sk-container-id-2 div.sk-dashed-wrapped {border: 1px dashed gray;margin: 0 0.4em 0.5em 0.4em;box-sizing: border-box;padding-bottom: 0.4em;background-color: white;}#sk-container-id-2 div.sk-label label {font-family: monospace;font-weight: bold;display: inline-block;line-height: 1.2em;}#sk-container-id-2 div.sk-label-container {text-align: center;}#sk-container-id-2 div.sk-container {/* jupyter's `normalize.less` sets `[hidden] { display: none; }` but bootstrap.min.css set `[hidden] { display: none !important; }` so we also need the `!important` here to be able to override the default hidden behavior on the sphinx rendered scikit-learn.org. See: https://github.com/scikit-learn/scikit-learn/issues/21755 */display: inline-block !important;position: relative;}#sk-container-id-2 div.sk-text-repr-fallback {display: none;}</style><div id=\"sk-container-id-2\" class=\"sk-top-container\"><div class=\"sk-text-repr-fallback\"><pre>RandomForestClassifier(min_samples_split=100, random_state=1)</pre><b>In a Jupyter environment, please rerun this cell to show the HTML representation or trust the notebook. <br />On GitHub, the HTML representation is unable to render, please try loading this page with nbviewer.org.</b></div><div class=\"sk-container\" hidden><div class=\"sk-item\"><div class=\"sk-estimator sk-toggleable\"><input class=\"sk-toggleable__control sk-hidden--visually\" id=\"sk-estimator-id-2\" type=\"checkbox\" checked><label for=\"sk-estimator-id-2\" class=\"sk-toggleable__label sk-toggleable__label-arrow\">RandomForestClassifier</label><div class=\"sk-toggleable__content\"><pre>RandomForestClassifier(min_samples_split=100, random_state=1)</pre></div></div></div></div></div>"
      ],
      "text/plain": [
       "RandomForestClassifier(min_samples_split=100, random_state=1)"
      ]
     },
     "execution_count": 48,
     "metadata": {},
     "output_type": "execute_result"
    }
   ],
   "source": [
    "from sklearn.ensemble import RandomForestClassifier\n",
    "\n",
    "model = RandomForestClassifier(n_estimators=100, min_samples_split=100, random_state=1)\n",
    "\n",
    "target = 'Target'\n",
    "predictors = [\"Close\", \"Volume\", \"Open\", \"High\", \"Low\"]\n",
    "\n",
    "train = hist.iloc[:-100]\n",
    "test = hist.iloc[-100:]\n",
    "\n",
    "model.fit(train[predictors], train[target])"
   ]
  },
  {
   "cell_type": "code",
   "execution_count": 49,
   "id": "e9ab552c",
   "metadata": {},
   "outputs": [
    {
     "data": {
      "text/plain": [
       "0.5609756097560976"
      ]
     },
     "execution_count": 49,
     "metadata": {},
     "output_type": "execute_result"
    }
   ],
   "source": [
    "from sklearn.metrics import precision_score\n",
    "\n",
    "preds = model.predict(test[predictors])\n",
    "preds = pd.Series(preds, index=test.index)\n",
    "precision_score(test[\"Target\"], preds)"
   ]
  },
  {
   "cell_type": "code",
   "execution_count": 50,
   "id": "323de52c",
   "metadata": {},
   "outputs": [],
   "source": [
    "def predict(train, test, predictors, target, model):\n",
    "    model.fit(train[predictors], train[\"Target\"])\n",
    "    preds = model.predict(test[predictors])\n",
    "    preds = pd.Series(preds, index=test.index, name=\"Predictions\")\n",
    "    combined = pd.concat([test[target], preds], axis=1)\n",
    "    return combined"
   ]
  },
  {
   "cell_type": "code",
   "execution_count": 51,
   "id": "d79e3f26",
   "metadata": {},
   "outputs": [],
   "source": [
    "def backtest(data, model, predictors, taget, start=2500, step=250):\n",
    "    all_predictions = []\n",
    "    for i in range(start, data.shape[0], step):\n",
    "        train = data.iloc[0:i].copy()\n",
    "        test = data.iloc[i:(i+step)].copy()\n",
    "        predictions = predict(train, test, predictors,target, model)\n",
    "        all_predictions.append(predictions)\n",
    "    return pd.concat(all_predictions)"
   ]
  },
  {
   "cell_type": "code",
   "execution_count": 53,
   "id": "f7abbecc",
   "metadata": {},
   "outputs": [],
   "source": [
    "predictions = backtest(hist, model, predictors, target)"
   ]
  },
  {
   "cell_type": "code",
   "execution_count": 54,
   "id": "65e506b3",
   "metadata": {},
   "outputs": [
    {
     "data": {
      "text/plain": [
       "0    2130\n",
       "1    1295\n",
       "Name: Predictions, dtype: int64"
      ]
     },
     "execution_count": 54,
     "metadata": {},
     "output_type": "execute_result"
    }
   ],
   "source": [
    "predictions[\"Predictions\"].value_counts()"
   ]
  },
  {
   "cell_type": "markdown",
   "id": "1297203b",
   "metadata": {},
   "source": [
    "prediction says that 1200 times the price would increase"
   ]
  },
  {
   "cell_type": "code",
   "execution_count": 55,
   "id": "9d9c0232",
   "metadata": {},
   "outputs": [
    {
     "data": {
      "text/plain": [
       "0.511969111969112"
      ]
     },
     "execution_count": 55,
     "metadata": {},
     "output_type": "execute_result"
    }
   ],
   "source": [
    "precision_score(predictions[\"Target\"], predictions[\"Predictions\"])"
   ]
  },
  {
   "cell_type": "code",
   "execution_count": 56,
   "id": "0516e5e8",
   "metadata": {},
   "outputs": [
    {
     "data": {
      "text/plain": [
       "1    0.520876\n",
       "0    0.479124\n",
       "Name: Target, dtype: float64"
      ]
     },
     "execution_count": 56,
     "metadata": {},
     "output_type": "execute_result"
    }
   ],
   "source": [
    "predictions[\"Target\"].value_counts() / predictions.shape[0]"
   ]
  },
  {
   "cell_type": "code",
   "execution_count": 57,
   "id": "7c8a1742",
   "metadata": {},
   "outputs": [
    {
     "name": "stdout",
     "output_type": "stream",
     "text": [
      "Recall: 0.3716367713004484 \n",
      "Precision: 0.511969111969112 \n",
      "Accuracy: 0.48817518248175185 \n",
      "F1: 0.43065930496914584\n"
     ]
    }
   ],
   "source": [
    "from sklearn.metrics import recall_score, precision_score, accuracy_score, f1_score\n",
    "recall = recall_score(predictions[\"Target\"], predictions[\"Predictions\"])\n",
    "precision = precision_score(predictions[\"Target\"], predictions[\"Predictions\"])\n",
    "accuracy = accuracy_score(predictions[\"Target\"], predictions[\"Predictions\"])\n",
    "f1 = f1_score(predictions[\"Target\"], predictions[\"Predictions\"])\n",
    "print(f'Recall: {recall} \\nPrecision: {precision} \\nAccuracy: {accuracy} \\nF1: {f1}')"
   ]
  },
  {
   "cell_type": "markdown",
   "id": "ba01efe3",
   "metadata": {},
   "source": [
    "Recall: how many actually possitive cases were correctly identified TP/(TP+FN)  \n",
    "Precision: how many positive predictions were REALLY possitive TP/(TP+FP)  \n",
    "Accuracy: number of correct prediction/ number of all predictions (TP+TN)/all  \n",
    "\n",
    "High recall: more likely to mark negative results as possitive  \n",
    "                when price was going down we indicated that it will go up  \n",
    "High precision: more likely to mark possitive result as negative  "
   ]
  },
  {
   "cell_type": "code",
   "execution_count": 58,
   "id": "3e421dfe",
   "metadata": {},
   "outputs": [],
   "source": [
    "from sklearn.metrics import confusion_matrix\n",
    "cf_matrix = confusion_matrix(predictions[\"Target\"], predictions[\"Predictions\"])"
   ]
  },
  {
   "cell_type": "code",
   "execution_count": 59,
   "id": "e20e3f45",
   "metadata": {},
   "outputs": [
    {
     "data": {
      "image/png": "[encoded data removed]",
      "text/plain": [
       "<Figure size 640x480 with 2 Axes>"
      ]
     },
     "metadata": {},
     "output_type": "display_data"
    }
   ],
   "source": [
    "import matplotlib.pyplot as plt\n",
    "from sklearn.metrics import ConfusionMatrixDisplay\n",
    "\n",
    "disp = ConfusionMatrixDisplay(confusion_matrix=cf_matrix)\n",
    "disp.plot()\n",
    "plt.show()"
   ]
  },
  {
   "cell_type": "markdown",
   "id": "9ed30bbe",
   "metadata": {},
   "source": [
    "Model correctly identified price not increasing the following day 1012 times (TP) and correctly identified price INcreasing the following day 672 times (TN). The FN case - The Price increased while model predicted a decrease 1109 times (almost the same as TP and FP - 625. "
   ]
  },
  {
   "cell_type": "markdown",
   "id": "dcf75d76",
   "metadata": {},
   "source": [
    "<a id=\"011\"></a>\n",
    "## Lets crate new predictors\n",
    "[back to top](#top)"
   ]
  },
  {
   "cell_type": "code",
   "execution_count": 60,
   "id": "8d622ccd",
   "metadata": {},
   "outputs": [],
   "source": [
    "horizons = [2,5,60,250,1000]\n",
    "new_predictors = []\n",
    "\n",
    "for horizon in horizons:\n",
    "    rolling_averages = hist.rolling(horizon).mean()\n",
    "    \n",
    "    ratio_column = f\"Close_Ratio_{horizon}\"\n",
    "    hist[ratio_column] = hist[\"Close\"] / rolling_averages[\"Close\"]\n",
    "    \n",
    "    trend_column = f\"Trend_{horizon}\"\n",
    "    hist[trend_column] = hist.shift(1).rolling(horizon).sum()[\"Target\"]\n",
    "    \n",
    "    new_predictors+= [ratio_column, trend_column]"
   ]
  },
  {
   "cell_type": "code",
   "execution_count": 61,
   "id": "d15d8271",
   "metadata": {},
   "outputs": [],
   "source": [
    "hist = hist.dropna()"
   ]
  },
  {
   "cell_type": "code",
   "execution_count": 62,
   "id": "50f2e246",
   "metadata": {},
   "outputs": [
    {
     "data": {
      "text/html": [
       "<div>\n",
       "<style scoped>\n",
       "    .dataframe tbody tr th:only-of-type {\n",
       "        vertical-align: middle;\n",
       "    }\n",
       "\n",
       "    .dataframe tbody tr th {\n",
       "        vertical-align: top;\n",
       "    }\n",
       "\n",
       "    .dataframe thead th {\n",
       "        text-align: right;\n",
       "    }\n",
       "</style>\n",
       "<table border=\"1\" class=\"dataframe\">\n",
       "  <thead>\n",
       "    <tr style=\"text-align: right;\">\n",
       "      <th></th>\n",
       "      <th>Open</th>\n",
       "      <th>High</th>\n",
       "      <th>Low</th>\n",
       "      <th>Close</th>\n",
       "      <th>Volume</th>\n",
       "      <th>Tomorrow</th>\n",
       "      <th>Target</th>\n",
       "      <th>Close_Ratio_2</th>\n",
       "      <th>Trend_2</th>\n",
       "      <th>Close_Ratio_5</th>\n",
       "      <th>Trend_5</th>\n",
       "      <th>Close_Ratio_60</th>\n",
       "      <th>Trend_60</th>\n",
       "      <th>Close_Ratio_250</th>\n",
       "      <th>Trend_250</th>\n",
       "      <th>Close_Ratio_1000</th>\n",
       "      <th>Trend_1000</th>\n",
       "    </tr>\n",
       "    <tr>\n",
       "      <th>Date</th>\n",
       "      <th></th>\n",
       "      <th></th>\n",
       "      <th></th>\n",
       "      <th></th>\n",
       "      <th></th>\n",
       "      <th></th>\n",
       "      <th></th>\n",
       "      <th></th>\n",
       "      <th></th>\n",
       "      <th></th>\n",
       "      <th></th>\n",
       "      <th></th>\n",
       "      <th></th>\n",
       "      <th></th>\n",
       "      <th></th>\n",
       "      <th></th>\n",
       "      <th></th>\n",
       "    </tr>\n",
       "  </thead>\n",
       "  <tbody>\n",
       "    <tr>\n",
       "      <th>2003-12-26 00:00:00-05:00</th>\n",
       "      <td>16.988554</td>\n",
       "      <td>17.114163</td>\n",
       "      <td>16.957152</td>\n",
       "      <td>17.089041</td>\n",
       "      <td>12076900</td>\n",
       "      <td>17.246056</td>\n",
       "      <td>1</td>\n",
       "      <td>1.003134</td>\n",
       "      <td>1.0</td>\n",
       "      <td>1.000809</td>\n",
       "      <td>1.0</td>\n",
       "      <td>1.010060</td>\n",
       "      <td>31.0</td>\n",
       "      <td>1.048220</td>\n",
       "      <td>129.0</td>\n",
       "      <td>0.894302</td>\n",
       "      <td>489.0</td>\n",
       "    </tr>\n",
       "    <tr>\n",
       "      <th>2003-12-29 00:00:00-05:00</th>\n",
       "      <td>17.089045</td>\n",
       "      <td>17.290020</td>\n",
       "      <td>17.057643</td>\n",
       "      <td>17.246056</td>\n",
       "      <td>40426700</td>\n",
       "      <td>17.283739</td>\n",
       "      <td>1</td>\n",
       "      <td>1.004573</td>\n",
       "      <td>2.0</td>\n",
       "      <td>1.009262</td>\n",
       "      <td>2.0</td>\n",
       "      <td>1.019896</td>\n",
       "      <td>32.0</td>\n",
       "      <td>1.057551</td>\n",
       "      <td>130.0</td>\n",
       "      <td>0.903361</td>\n",
       "      <td>490.0</td>\n",
       "    </tr>\n",
       "    <tr>\n",
       "      <th>2003-12-30 00:00:00-05:00</th>\n",
       "      <td>17.214654</td>\n",
       "      <td>17.302580</td>\n",
       "      <td>17.208373</td>\n",
       "      <td>17.283739</td>\n",
       "      <td>34406600</td>\n",
       "      <td>17.189533</td>\n",
       "      <td>0</td>\n",
       "      <td>1.001091</td>\n",
       "      <td>2.0</td>\n",
       "      <td>1.008946</td>\n",
       "      <td>3.0</td>\n",
       "      <td>1.023010</td>\n",
       "      <td>32.0</td>\n",
       "      <td>1.059716</td>\n",
       "      <td>130.0</td>\n",
       "      <td>0.906196</td>\n",
       "      <td>490.0</td>\n",
       "    </tr>\n",
       "    <tr>\n",
       "      <th>2003-12-31 00:00:00-05:00</th>\n",
       "      <td>17.220935</td>\n",
       "      <td>17.302580</td>\n",
       "      <td>17.101606</td>\n",
       "      <td>17.189533</td>\n",
       "      <td>42198900</td>\n",
       "      <td>17.239771</td>\n",
       "      <td>1</td>\n",
       "      <td>0.997267</td>\n",
       "      <td>1.0</td>\n",
       "      <td>1.001830</td>\n",
       "      <td>3.0</td>\n",
       "      <td>1.018480</td>\n",
       "      <td>31.0</td>\n",
       "      <td>1.053825</td>\n",
       "      <td>129.0</td>\n",
       "      <td>0.902063</td>\n",
       "      <td>490.0</td>\n",
       "    </tr>\n",
       "    <tr>\n",
       "      <th>2004-01-02 00:00:00-05:00</th>\n",
       "      <td>17.321416</td>\n",
       "      <td>17.440744</td>\n",
       "      <td>17.164405</td>\n",
       "      <td>17.239771</td>\n",
       "      <td>44487700</td>\n",
       "      <td>17.673126</td>\n",
       "      <td>1</td>\n",
       "      <td>1.001459</td>\n",
       "      <td>1.0</td>\n",
       "      <td>1.001752</td>\n",
       "      <td>4.0</td>\n",
       "      <td>1.022425</td>\n",
       "      <td>32.0</td>\n",
       "      <td>1.056855</td>\n",
       "      <td>129.0</td>\n",
       "      <td>0.905529</td>\n",
       "      <td>490.0</td>\n",
       "    </tr>\n",
       "  </tbody>\n",
       "</table>\n",
       "</div>"
      ],
      "text/plain": [
       "                                Open       High        Low      Close  \\\n",
       "Date                                                                    \n",
       "2003-12-26 00:00:00-05:00  16.988554  17.114163  16.957152  17.089041   \n",
       "2003-12-29 00:00:00-05:00  17.089045  17.290020  17.057643  17.246056   \n",
       "2003-12-30 00:00:00-05:00  17.214654  17.302580  17.208373  17.283739   \n",
       "2003-12-31 00:00:00-05:00  17.220935  17.302580  17.101606  17.189533   \n",
       "2004-01-02 00:00:00-05:00  17.321416  17.440744  17.164405  17.239771   \n",
       "\n",
       "                             Volume   Tomorrow  Target  Close_Ratio_2  \\\n",
       "Date                                                                    \n",
       "2003-12-26 00:00:00-05:00  12076900  17.246056       1       1.003134   \n",
       "2003-12-29 00:00:00-05:00  40426700  17.283739       1       1.004573   \n",
       "2003-12-30 00:00:00-05:00  34406600  17.189533       0       1.001091   \n",
       "2003-12-31 00:00:00-05:00  42198900  17.239771       1       0.997267   \n",
       "2004-01-02 00:00:00-05:00  44487700  17.673126       1       1.001459   \n",
       "\n",
       "                           Trend_2  Close_Ratio_5  Trend_5  Close_Ratio_60  \\\n",
       "Date                                                                         \n",
       "2003-12-26 00:00:00-05:00      1.0       1.000809      1.0        1.010060   \n",
       "2003-12-29 00:00:00-05:00      2.0       1.009262      2.0        1.019896   \n",
       "2003-12-30 00:00:00-05:00      2.0       1.008946      3.0        1.023010   \n",
       "2003-12-31 00:00:00-05:00      1.0       1.001830      3.0        1.018480   \n",
       "2004-01-02 00:00:00-05:00      1.0       1.001752      4.0        1.022425   \n",
       "\n",
       "                           Trend_60  Close_Ratio_250  Trend_250  \\\n",
       "Date                                                              \n",
       "2003-12-26 00:00:00-05:00      31.0         1.048220      129.0   \n",
       "2003-12-29 00:00:00-05:00      32.0         1.057551      130.0   \n",
       "2003-12-30 00:00:00-05:00      32.0         1.059716      130.0   \n",
       "2003-12-31 00:00:00-05:00      31.0         1.053825      129.0   \n",
       "2004-01-02 00:00:00-05:00      32.0         1.056855      129.0   \n",
       "\n",
       "                           Close_Ratio_1000  Trend_1000  \n",
       "Date                                                     \n",
       "2003-12-26 00:00:00-05:00          0.894302       489.0  \n",
       "2003-12-29 00:00:00-05:00          0.903361       490.0  \n",
       "2003-12-30 00:00:00-05:00          0.906196       490.0  \n",
       "2003-12-31 00:00:00-05:00          0.902063       490.0  \n",
       "2004-01-02 00:00:00-05:00          0.905529       490.0  "
      ]
     },
     "execution_count": 62,
     "metadata": {},
     "output_type": "execute_result"
    }
   ],
   "source": [
    "hist.head()"
   ]
  },
  {
   "cell_type": "markdown",
   "id": "803d8586",
   "metadata": {},
   "source": [
    "<a id='02'></a>\n",
    "# Predictions\n",
    "[back to top](#top)"
   ]
  },
  {
   "cell_type": "markdown",
   "id": "9ff8c3d7",
   "metadata": {},
   "source": [
    "Close price indicator prediction"
   ]
  },
  {
   "cell_type": "code",
   "execution_count": 63,
   "id": "e8012123",
   "metadata": {},
   "outputs": [],
   "source": [
    "model = RandomForestClassifier(n_estimators=200, min_samples_split=50, random_state=1)"
   ]
  },
  {
   "cell_type": "code",
   "execution_count": 64,
   "id": "cf6e3980",
   "metadata": {},
   "outputs": [],
   "source": [
    "def predict(train, test, predictors, target, model, thrsh = 0.6):\n",
    "    #0.6 probability threshold so that we have a better confidence that price will increase\n",
    "    model.fit(train[predictors], train[target])\n",
    "    preds = model.predict_proba(test[predictors])[:,1] #predicts probability\n",
    "    preds[preds >=thrsh] = 1\n",
    "    preds[preds <thrsh] = 0\n",
    "    preds = pd.Series(preds, index=test.index, name=\"Predictions\")\n",
    "    combined = pd.concat([test[target], preds], axis=1)\n",
    "    return combined"
   ]
  },
  {
   "cell_type": "code",
   "execution_count": 66,
   "id": "94f130c3",
   "metadata": {},
   "outputs": [
    {
     "name": "stdout",
     "output_type": "stream",
     "text": [
      "Predictors:\n",
      "['Close_Ratio_2', 'Trend_2', 'Close_Ratio_5', 'Trend_5', 'Close_Ratio_60', 'Trend_60', 'Close_Ratio_250', 'Trend_250', 'Close_Ratio_1000', 'Trend_1000', 'Close', 'Volume']\n"
     ]
    }
   ],
   "source": [
    "target = 'Target'\n",
    "#predictors = predictors + new_predictors\n",
    "predictors = new_predictors + [\"Close\", \"Volume\"] #the other prices tell us little about the prediction \n",
    "print('Predictors:')\n",
    "print(predictors)\n",
    "predictions = backtest(hist, model, predictors, target)"
   ]
  },
  {
   "cell_type": "code",
   "execution_count": 67,
   "id": "0cd0bba8",
   "metadata": {},
   "outputs": [
    {
     "data": {
      "text/plain": [
       "0.0    2231\n",
       "1.0     193\n",
       "Name: Predictions, dtype: int64"
      ]
     },
     "execution_count": 67,
     "metadata": {},
     "output_type": "execute_result"
    }
   ],
   "source": [
    "predictions[\"Predictions\"].value_counts()"
   ]
  },
  {
   "cell_type": "markdown",
   "id": "09e1f105",
   "metadata": {},
   "source": [
    "So now we only predict 200 days when price will increase in contrary to rpevious results where it was 1200"
   ]
  },
  {
   "cell_type": "code",
   "execution_count": 68,
   "id": "db50001b",
   "metadata": {},
   "outputs": [
    {
     "data": {
      "text/plain": [
       "0.49222797927461137"
      ]
     },
     "execution_count": 68,
     "metadata": {},
     "output_type": "execute_result"
    }
   ],
   "source": [
    "precision_score(predictions[\"Target\"], predictions[\"Predictions\"])"
   ]
  },
  {
   "cell_type": "code",
   "execution_count": 69,
   "id": "5a22412b",
   "metadata": {},
   "outputs": [
    {
     "data": {
      "text/plain": [
       "1    0.528878\n",
       "0    0.471122\n",
       "Name: Target, dtype: float64"
      ]
     },
     "execution_count": 69,
     "metadata": {},
     "output_type": "execute_result"
    }
   ],
   "source": [
    "predictions[\"Target\"].value_counts() / predictions.shape[0]"
   ]
  },
  {
   "cell_type": "code",
   "execution_count": 70,
   "id": "ad476957",
   "metadata": {},
   "outputs": [
    {
     "data": {
      "text/plain": [
       "array([[1044,   98],\n",
       "       [1187,   95]], dtype=int64)"
      ]
     },
     "execution_count": 70,
     "metadata": {},
     "output_type": "execute_result"
    }
   ],
   "source": [
    "from sklearn.metrics import confusion_matrix\n",
    "cf_matrix = confusion_matrix(predictions[\"Target\"], predictions[\"Predictions\"])\n",
    "cf_matrix"
   ]
  },
  {
   "cell_type": "code",
   "execution_count": 71,
   "id": "ac07e0fc",
   "metadata": {},
   "outputs": [
    {
     "data": {
      "image/png": "[encoded data removed]",
      "text/plain": [
       "<Figure size 640x480 with 2 Axes>"
      ]
     },
     "metadata": {},
     "output_type": "display_data"
    }
   ],
   "source": [
    "import matplotlib.pyplot as plt\n",
    "from sklearn.metrics import ConfusionMatrixDisplay\n",
    "\n",
    "disp = ConfusionMatrixDisplay(confusion_matrix=cf_matrix)\n",
    "disp.plot()\n",
    "plt.show()"
   ]
  },
  {
   "cell_type": "code",
   "execution_count": 72,
   "id": "28ebd590",
   "metadata": {},
   "outputs": [
    {
     "name": "stdout",
     "output_type": "stream",
     "text": [
      "Recall: 0.07410296411856475 \n",
      "Precision: 0.49222797927461137 \n",
      "Accuracy: 0.4698844884488449 \n",
      "F1: 0.12881355932203392\n"
     ]
    }
   ],
   "source": [
    "recall = recall_score(predictions[\"Target\"], predictions[\"Predictions\"])\n",
    "precision = precision_score(predictions[\"Target\"], predictions[\"Predictions\"])\n",
    "accuracy = accuracy_score(predictions[\"Target\"], predictions[\"Predictions\"])\n",
    "f1 = f1_score(predictions[\"Target\"], predictions[\"Predictions\"])\n",
    "print(f'Recall: {recall} \\nPrecision: {precision} \\nAccuracy: {accuracy} \\nF1: {f1}')"
   ]
  },
  {
   "cell_type": "markdown",
   "id": "4e222bb3",
   "metadata": {},
   "source": [
    "<a id=\"03\"></a>\n",
    "# LTSM for Closing price prediction\n",
    "[back to top](#top)\n"
   ]
  },
  {
   "cell_type": "markdown",
   "id": "0f188e32",
   "metadata": {},
   "source": [
    "Attempt to use only Closing price to predict next day stock Price  \n",
    "We reform the dataset that each sample contains several days history info (5 and 20 days)"
   ]
  },
  {
   "cell_type": "code",
   "execution_count": 127,
   "id": "ed80cf27",
   "metadata": {},
   "outputs": [],
   "source": [
    "df_close = hist['Close'].copy(deep=True)\n",
    "df_close = df_close.reset_index(drop=True)"
   ]
  },
  {
   "cell_type": "code",
   "execution_count": 162,
   "id": "f1b48bf3",
   "metadata": {},
   "outputs": [],
   "source": [
    "from sklearn.preprocessing import MinMaxScaler\n",
    "scaler=MinMaxScaler(feature_range=(0,1))\n",
    "df_close=pd.DataFrame(scaler.fit_transform(np.array(df_close).reshape(-1, 1)), columns= ['Close'])"
   ]
  },
  {
   "cell_type": "code",
   "execution_count": 163,
   "id": "54f35f96",
   "metadata": {},
   "outputs": [
    {
     "data": {
      "text/html": [
       "<div>\n",
       "<style scoped>\n",
       "    .dataframe tbody tr th:only-of-type {\n",
       "        vertical-align: middle;\n",
       "    }\n",
       "\n",
       "    .dataframe tbody tr th {\n",
       "        vertical-align: top;\n",
       "    }\n",
       "\n",
       "    .dataframe thead th {\n",
       "        text-align: right;\n",
       "    }\n",
       "</style>\n",
       "<table border=\"1\" class=\"dataframe\">\n",
       "  <thead>\n",
       "    <tr style=\"text-align: right;\">\n",
       "      <th></th>\n",
       "      <th>Close</th>\n",
       "    </tr>\n",
       "  </thead>\n",
       "  <tbody>\n",
       "    <tr>\n",
       "      <th>0</th>\n",
       "      <td>0.016480</td>\n",
       "    </tr>\n",
       "    <tr>\n",
       "      <th>1</th>\n",
       "      <td>0.016932</td>\n",
       "    </tr>\n",
       "    <tr>\n",
       "      <th>2</th>\n",
       "      <td>0.017040</td>\n",
       "    </tr>\n",
       "    <tr>\n",
       "      <th>3</th>\n",
       "      <td>0.016769</td>\n",
       "    </tr>\n",
       "    <tr>\n",
       "      <th>4</th>\n",
       "      <td>0.016913</td>\n",
       "    </tr>\n",
       "    <tr>\n",
       "      <th>...</th>\n",
       "      <td>...</td>\n",
       "    </tr>\n",
       "    <tr>\n",
       "      <th>4919</th>\n",
       "      <td>0.959068</td>\n",
       "    </tr>\n",
       "    <tr>\n",
       "      <th>4920</th>\n",
       "      <td>0.960476</td>\n",
       "    </tr>\n",
       "    <tr>\n",
       "      <th>4921</th>\n",
       "      <td>1.000000</td>\n",
       "    </tr>\n",
       "    <tr>\n",
       "      <th>4922</th>\n",
       "      <td>0.987333</td>\n",
       "    </tr>\n",
       "    <tr>\n",
       "      <th>4923</th>\n",
       "      <td>0.963750</td>\n",
       "    </tr>\n",
       "  </tbody>\n",
       "</table>\n",
       "<p>4924 rows × 1 columns</p>\n",
       "</div>"
      ],
      "text/plain": [
       "         Close\n",
       "0     0.016480\n",
       "1     0.016932\n",
       "2     0.017040\n",
       "3     0.016769\n",
       "4     0.016913\n",
       "...        ...\n",
       "4919  0.959068\n",
       "4920  0.960476\n",
       "4921  1.000000\n",
       "4922  0.987333\n",
       "4923  0.963750\n",
       "\n",
       "[4924 rows x 1 columns]"
      ]
     },
     "execution_count": 163,
     "metadata": {},
     "output_type": "execute_result"
    }
   ],
   "source": [
    "df_close"
   ]
  },
  {
   "cell_type": "code",
   "execution_count": 177,
   "id": "46460161",
   "metadata": {},
   "outputs": [],
   "source": [
    "def rebuild_dataset(in_df: pd.DataFrame, nr_days: int, feat_name : str, period_shift : int = 1) -> pd.DataFrame:\n",
    "    \"\"\" We put <window size> amount of data into singular row\n",
    "    in_df - input DataFrame\n",
    "    nr_days - number of days of history\n",
    "    feat_name - which feature to use\n",
    "    period_shift - number of days between successive data samples\n",
    "    \"\"\"\n",
    "    #window_size determines how many data points in the past we are interested\n",
    "    column_names = [('X'+str(y+1)) for y in range(0,nr_days)]\n",
    "    column_names.append('Y')\n",
    "    df = pd.DataFrame(columns = column_names)\n",
    "    for row_i in range(0,in_df.shape[0]-nr_days, period_shift):\n",
    "        window_data = []\n",
    "        for i in range(nr_days):\n",
    "            window_data.append(in_df[feat_name].iloc[row_i+i])\n",
    "        window_data.append(in_df[feat_name].iloc[row_i+i+1])\n",
    "        df.loc[in_df.index[row_i]] = window_data\n",
    "    return df"
   ]
  },
  {
   "cell_type": "code",
   "execution_count": 238,
   "id": "9a82387e",
   "metadata": {},
   "outputs": [],
   "source": [
    "reformed_df_20 = rebuild_dataset(df_close, 20, 'Close')\n",
    "reformed_df_5 = rebuild_dataset(df_close, 5, 'Close')"
   ]
  },
  {
   "cell_type": "code",
   "execution_count": 239,
   "id": "98eeccfb",
   "metadata": {
    "scrolled": true
   },
   "outputs": [
    {
     "data": {
      "text/html": [
       "<div>\n",
       "<style scoped>\n",
       "    .dataframe tbody tr th:only-of-type {\n",
       "        vertical-align: middle;\n",
       "    }\n",
       "\n",
       "    .dataframe tbody tr th {\n",
       "        vertical-align: top;\n",
       "    }\n",
       "\n",
       "    .dataframe thead th {\n",
       "        text-align: right;\n",
       "    }\n",
       "</style>\n",
       "<table border=\"1\" class=\"dataframe\">\n",
       "  <thead>\n",
       "    <tr style=\"text-align: right;\">\n",
       "      <th></th>\n",
       "      <th>X1</th>\n",
       "      <th>X2</th>\n",
       "      <th>X3</th>\n",
       "      <th>X4</th>\n",
       "      <th>X5</th>\n",
       "      <th>X6</th>\n",
       "      <th>X7</th>\n",
       "      <th>X8</th>\n",
       "      <th>X9</th>\n",
       "      <th>X10</th>\n",
       "      <th>...</th>\n",
       "      <th>X12</th>\n",
       "      <th>X13</th>\n",
       "      <th>X14</th>\n",
       "      <th>X15</th>\n",
       "      <th>X16</th>\n",
       "      <th>X17</th>\n",
       "      <th>X18</th>\n",
       "      <th>X19</th>\n",
       "      <th>X20</th>\n",
       "      <th>Y</th>\n",
       "    </tr>\n",
       "  </thead>\n",
       "  <tbody>\n",
       "    <tr>\n",
       "      <th>0</th>\n",
       "      <td>0.016480</td>\n",
       "      <td>0.016932</td>\n",
       "      <td>0.017040</td>\n",
       "      <td>0.016769</td>\n",
       "      <td>0.016913</td>\n",
       "      <td>0.018158</td>\n",
       "      <td>0.018339</td>\n",
       "      <td>0.018285</td>\n",
       "      <td>0.018194</td>\n",
       "      <td>0.017292</td>\n",
       "      <td>...</td>\n",
       "      <td>0.016877</td>\n",
       "      <td>0.017364</td>\n",
       "      <td>0.017076</td>\n",
       "      <td>0.017563</td>\n",
       "      <td>0.018086</td>\n",
       "      <td>0.018447</td>\n",
       "      <td>0.017924</td>\n",
       "      <td>0.018772</td>\n",
       "      <td>0.019349</td>\n",
       "      <td>0.018357</td>\n",
       "    </tr>\n",
       "    <tr>\n",
       "      <th>1</th>\n",
       "      <td>0.016932</td>\n",
       "      <td>0.017040</td>\n",
       "      <td>0.016769</td>\n",
       "      <td>0.016913</td>\n",
       "      <td>0.018158</td>\n",
       "      <td>0.018339</td>\n",
       "      <td>0.018285</td>\n",
       "      <td>0.018194</td>\n",
       "      <td>0.017292</td>\n",
       "      <td>0.017130</td>\n",
       "      <td>...</td>\n",
       "      <td>0.017364</td>\n",
       "      <td>0.017076</td>\n",
       "      <td>0.017563</td>\n",
       "      <td>0.018086</td>\n",
       "      <td>0.018447</td>\n",
       "      <td>0.017924</td>\n",
       "      <td>0.018772</td>\n",
       "      <td>0.019349</td>\n",
       "      <td>0.018357</td>\n",
       "      <td>0.017382</td>\n",
       "    </tr>\n",
       "    <tr>\n",
       "      <th>2</th>\n",
       "      <td>0.017040</td>\n",
       "      <td>0.016769</td>\n",
       "      <td>0.016913</td>\n",
       "      <td>0.018158</td>\n",
       "      <td>0.018339</td>\n",
       "      <td>0.018285</td>\n",
       "      <td>0.018194</td>\n",
       "      <td>0.017292</td>\n",
       "      <td>0.017130</td>\n",
       "      <td>0.016877</td>\n",
       "      <td>...</td>\n",
       "      <td>0.017076</td>\n",
       "      <td>0.017563</td>\n",
       "      <td>0.018086</td>\n",
       "      <td>0.018447</td>\n",
       "      <td>0.017924</td>\n",
       "      <td>0.018772</td>\n",
       "      <td>0.019349</td>\n",
       "      <td>0.018357</td>\n",
       "      <td>0.017382</td>\n",
       "      <td>0.017743</td>\n",
       "    </tr>\n",
       "    <tr>\n",
       "      <th>3</th>\n",
       "      <td>0.016769</td>\n",
       "      <td>0.016913</td>\n",
       "      <td>0.018158</td>\n",
       "      <td>0.018339</td>\n",
       "      <td>0.018285</td>\n",
       "      <td>0.018194</td>\n",
       "      <td>0.017292</td>\n",
       "      <td>0.017130</td>\n",
       "      <td>0.016877</td>\n",
       "      <td>0.017364</td>\n",
       "      <td>...</td>\n",
       "      <td>0.017563</td>\n",
       "      <td>0.018086</td>\n",
       "      <td>0.018447</td>\n",
       "      <td>0.017924</td>\n",
       "      <td>0.018772</td>\n",
       "      <td>0.019349</td>\n",
       "      <td>0.018357</td>\n",
       "      <td>0.017382</td>\n",
       "      <td>0.017743</td>\n",
       "      <td>0.017274</td>\n",
       "    </tr>\n",
       "    <tr>\n",
       "      <th>4</th>\n",
       "      <td>0.016913</td>\n",
       "      <td>0.018158</td>\n",
       "      <td>0.018339</td>\n",
       "      <td>0.018285</td>\n",
       "      <td>0.018194</td>\n",
       "      <td>0.017292</td>\n",
       "      <td>0.017130</td>\n",
       "      <td>0.016877</td>\n",
       "      <td>0.017364</td>\n",
       "      <td>0.017076</td>\n",
       "      <td>...</td>\n",
       "      <td>0.018086</td>\n",
       "      <td>0.018447</td>\n",
       "      <td>0.017924</td>\n",
       "      <td>0.018772</td>\n",
       "      <td>0.019349</td>\n",
       "      <td>0.018357</td>\n",
       "      <td>0.017382</td>\n",
       "      <td>0.017743</td>\n",
       "      <td>0.017274</td>\n",
       "      <td>0.016823</td>\n",
       "    </tr>\n",
       "  </tbody>\n",
       "</table>\n",
       "<p>5 rows × 21 columns</p>\n",
       "</div>"
      ],
      "text/plain": [
       "         X1        X2        X3        X4        X5        X6        X7  \\\n",
       "0  0.016480  0.016932  0.017040  0.016769  0.016913  0.018158  0.018339   \n",
       "1  0.016932  0.017040  0.016769  0.016913  0.018158  0.018339  0.018285   \n",
       "2  0.017040  0.016769  0.016913  0.018158  0.018339  0.018285  0.018194   \n",
       "3  0.016769  0.016913  0.018158  0.018339  0.018285  0.018194  0.017292   \n",
       "4  0.016913  0.018158  0.018339  0.018285  0.018194  0.017292  0.017130   \n",
       "\n",
       "         X8        X9       X10  ...       X12       X13       X14       X15  \\\n",
       "0  0.018285  0.018194  0.017292  ...  0.016877  0.017364  0.017076  0.017563   \n",
       "1  0.018194  0.017292  0.017130  ...  0.017364  0.017076  0.017563  0.018086   \n",
       "2  0.017292  0.017130  0.016877  ...  0.017076  0.017563  0.018086  0.018447   \n",
       "3  0.017130  0.016877  0.017364  ...  0.017563  0.018086  0.018447  0.017924   \n",
       "4  0.016877  0.017364  0.017076  ...  0.018086  0.018447  0.017924  0.018772   \n",
       "\n",
       "        X16       X17       X18       X19       X20         Y  \n",
       "0  0.018086  0.018447  0.017924  0.018772  0.019349  0.018357  \n",
       "1  0.018447  0.017924  0.018772  0.019349  0.018357  0.017382  \n",
       "2  0.017924  0.018772  0.019349  0.018357  0.017382  0.017743  \n",
       "3  0.018772  0.019349  0.018357  0.017382  0.017743  0.017274  \n",
       "4  0.019349  0.018357  0.017382  0.017743  0.017274  0.016823  \n",
       "\n",
       "[5 rows x 21 columns]"
      ]
     },
     "execution_count": 239,
     "metadata": {},
     "output_type": "execute_result"
    }
   ],
   "source": [
    "reformed_df_20.head()"
   ]
  },
  {
   "cell_type": "markdown",
   "id": "663da635",
   "metadata": {},
   "source": [
    "So here we take 20 previous days 'Closing price' and try to predict day 4 (Y) price"
   ]
  },
  {
   "cell_type": "markdown",
   "id": "ce13fb1a",
   "metadata": {},
   "source": [
    "Let's try to build a stacked LSTM Neural network"
   ]
  },
  {
   "cell_type": "code",
   "execution_count": 270,
   "id": "b3e27908",
   "metadata": {},
   "outputs": [],
   "source": [
    "from tensorflow.keras.models import Sequential\n",
    "from tensorflow.keras.optimizers import Adam\n",
    "from tensorflow.keras import layers\n",
    "import tensorflow as tf\n",
    "\n",
    "\n",
    "def compile_nn(predictors):\n",
    "    nr_inputs = len(predictors)\n",
    "\n",
    "    model = Sequential([layers.Input((nr_inputs, 1)),\n",
    "                        layers.LSTM(64, return_sequences=True), \n",
    "                        layers.LSTM(64, return_sequences=True),\n",
    "                        layers.LSTM(32),\n",
    "                        layers.Dense(1)])\n",
    "\n",
    "    model.compile(loss = 'mse',\n",
    "                    optimizer = Adam(learning_rate=0.001), \n",
    "                    metrics = ['mean_squared_error'])\n",
    "    print(model.summary())\n",
    "    return model"
   ]
  },
  {
   "cell_type": "code",
   "execution_count": 272,
   "id": "8e1de4a8",
   "metadata": {
    "scrolled": false
   },
   "outputs": [
    {
     "name": "stdout",
     "output_type": "stream",
     "text": [
      "Model: \"sequential_22\"\n",
      "_________________________________________________________________\n",
      " Layer (type)                Output Shape              Param #   \n",
      "=================================================================\n",
      " lstm_63 (LSTM)              (None, 20, 64)            16896     \n",
      "                                                                 \n",
      " lstm_64 (LSTM)              (None, 20, 64)            33024     \n",
      "                                                                 \n",
      " lstm_65 (LSTM)              (None, 32)                12416     \n",
      "                                                                 \n",
      " dense_25 (Dense)            (None, 1)                 33        \n",
      "                                                                 \n",
      "=================================================================\n",
      "Total params: 62,369\n",
      "Trainable params: 62,369\n",
      "Non-trainable params: 0\n",
      "_________________________________________________________________\n",
      "None\n",
      "Epoch 1/50\n",
      "123/123 [==============================] - 13s 57ms/step - loss: 4.5587e-04 - mean_squared_error: 4.5587e-04 - val_loss: 0.0010 - val_mean_squared_error: 0.0010\n",
      "Epoch 2/50\n",
      "123/123 [==============================] - 4s 36ms/step - loss: 1.9434e-05 - mean_squared_error: 1.9434e-05 - val_loss: 0.0013 - val_mean_squared_error: 0.0013\n",
      "Epoch 3/50\n",
      "123/123 [==============================] - 4s 36ms/step - loss: 1.8403e-05 - mean_squared_error: 1.8403e-05 - val_loss: 7.5768e-04 - val_mean_squared_error: 7.5768e-04\n",
      "Epoch 4/50\n",
      "123/123 [==============================] - 4s 36ms/step - loss: 1.9381e-05 - mean_squared_error: 1.9381e-05 - val_loss: 9.3559e-04 - val_mean_squared_error: 9.3559e-04\n",
      "Epoch 5/50\n",
      "123/123 [==============================] - 5s 37ms/step - loss: 2.1850e-05 - mean_squared_error: 2.1850e-05 - val_loss: 9.2304e-04 - val_mean_squared_error: 9.2304e-04\n",
      "Epoch 6/50\n",
      "123/123 [==============================] - 5s 37ms/step - loss: 2.2285e-05 - mean_squared_error: 2.2285e-05 - val_loss: 7.3975e-04 - val_mean_squared_error: 7.3975e-04\n",
      "Epoch 7/50\n",
      "123/123 [==============================] - 4s 36ms/step - loss: 2.0542e-05 - mean_squared_error: 2.0542e-05 - val_loss: 5.9078e-04 - val_mean_squared_error: 5.9078e-04\n",
      "Epoch 8/50\n",
      "123/123 [==============================] - 5s 37ms/step - loss: 1.9247e-05 - mean_squared_error: 1.9247e-05 - val_loss: 9.3248e-04 - val_mean_squared_error: 9.3248e-04\n",
      "Epoch 9/50\n",
      "123/123 [==============================] - 5s 38ms/step - loss: 2.0348e-05 - mean_squared_error: 2.0348e-05 - val_loss: 5.1698e-04 - val_mean_squared_error: 5.1698e-04\n",
      "Epoch 10/50\n",
      "123/123 [==============================] - 5s 37ms/step - loss: 1.9651e-05 - mean_squared_error: 1.9651e-05 - val_loss: 4.8829e-04 - val_mean_squared_error: 4.8829e-04\n",
      "Epoch 11/50\n",
      "123/123 [==============================] - 5s 38ms/step - loss: 2.0532e-05 - mean_squared_error: 2.0532e-05 - val_loss: 4.8810e-04 - val_mean_squared_error: 4.8810e-04\n",
      "Epoch 11: early stopping\n"
     ]
    }
   ],
   "source": [
    "from keras.callbacks import EarlyStopping\n",
    "\n",
    "in_df = reformed_df_20\n",
    "\n",
    "predictors_20 = list(in_df.columns)[:-1]\n",
    "target = 'Y'\n",
    "\n",
    "q80 = int(in_df.shape[0]*0.8)\n",
    "q90 = int(in_df.shape[0]*0.9) \n",
    "train_20 = in_df.iloc[:q80]\n",
    "val_20 = in_df.iloc[q80:q90]\n",
    "test_20 = in_df.iloc[q90:]\n",
    "\n",
    "es = EarlyStopping(monitor='mean_squared_error', mode='min', verbose=1, patience=10, min_delta = 1)\n",
    "\n",
    "model_20 = compile_nn(predictors_20)\n",
    "history_20 = model_20.fit(np.array(train_20[predictors_20]), np.array(train_20[target])\n",
    "                    ,validation_data=(val_20[predictors_20], val_20[target])\n",
    "                    ,epochs=50\n",
    "                    ,callbacks = [es]\n",
    "                   )"
   ]
  },
  {
   "cell_type": "code",
   "execution_count": 273,
   "id": "706d1a70",
   "metadata": {},
   "outputs": [
    {
     "name": "stdout",
     "output_type": "stream",
     "text": [
      "Model: \"sequential_23\"\n",
      "_________________________________________________________________\n",
      " Layer (type)                Output Shape              Param #   \n",
      "=================================================================\n",
      " lstm_66 (LSTM)              (None, 5, 64)             16896     \n",
      "                                                                 \n",
      " lstm_67 (LSTM)              (None, 5, 64)             33024     \n",
      "                                                                 \n",
      " lstm_68 (LSTM)              (None, 32)                12416     \n",
      "                                                                 \n",
      " dense_26 (Dense)            (None, 1)                 33        \n",
      "                                                                 \n",
      "=================================================================\n",
      "Total params: 62,369\n",
      "Trainable params: 62,369\n",
      "Non-trainable params: 0\n",
      "_________________________________________________________________\n",
      "None\n",
      "Epoch 1/50\n",
      "123/123 [==============================] - 9s 25ms/step - loss: 9.5029e-04 - mean_squared_error: 9.5029e-04 - val_loss: 2.7777e-04 - val_mean_squared_error: 2.7777e-04\n",
      "Epoch 2/50\n",
      "123/123 [==============================] - 2s 13ms/step - loss: 1.3287e-05 - mean_squared_error: 1.3287e-05 - val_loss: 3.0625e-04 - val_mean_squared_error: 3.0625e-04\n",
      "Epoch 3/50\n",
      "123/123 [==============================] - 2s 13ms/step - loss: 1.1906e-05 - mean_squared_error: 1.1906e-05 - val_loss: 3.8948e-04 - val_mean_squared_error: 3.8948e-04\n",
      "Epoch 4/50\n",
      "123/123 [==============================] - 2s 13ms/step - loss: 1.2351e-05 - mean_squared_error: 1.2351e-05 - val_loss: 4.0915e-04 - val_mean_squared_error: 4.0915e-04\n",
      "Epoch 5/50\n",
      "123/123 [==============================] - 2s 13ms/step - loss: 1.1460e-05 - mean_squared_error: 1.1460e-05 - val_loss: 4.0338e-04 - val_mean_squared_error: 4.0338e-04\n",
      "Epoch 6/50\n",
      "123/123 [==============================] - 2s 13ms/step - loss: 1.2840e-05 - mean_squared_error: 1.2840e-05 - val_loss: 3.4202e-04 - val_mean_squared_error: 3.4202e-04\n",
      "Epoch 7/50\n",
      "123/123 [==============================] - 2s 13ms/step - loss: 1.1891e-05 - mean_squared_error: 1.1891e-05 - val_loss: 2.7750e-04 - val_mean_squared_error: 2.7750e-04\n",
      "Epoch 8/50\n",
      "123/123 [==============================] - 2s 13ms/step - loss: 1.5677e-05 - mean_squared_error: 1.5677e-05 - val_loss: 6.1752e-04 - val_mean_squared_error: 6.1752e-04\n",
      "Epoch 9/50\n",
      "123/123 [==============================] - 2s 13ms/step - loss: 1.3160e-05 - mean_squared_error: 1.3160e-05 - val_loss: 5.1794e-04 - val_mean_squared_error: 5.1794e-04\n",
      "Epoch 10/50\n",
      "123/123 [==============================] - 2s 13ms/step - loss: 1.3663e-05 - mean_squared_error: 1.3663e-05 - val_loss: 4.7580e-04 - val_mean_squared_error: 4.7580e-04\n",
      "Epoch 11/50\n",
      "123/123 [==============================] - 2s 13ms/step - loss: 1.3458e-05 - mean_squared_error: 1.3458e-05 - val_loss: 7.6409e-04 - val_mean_squared_error: 7.6409e-04\n",
      "Epoch 11: early stopping\n"
     ]
    }
   ],
   "source": [
    "from keras.callbacks import EarlyStopping\n",
    "\n",
    "in_df = reformed_df_5\n",
    "\n",
    "predictors_5 = list(in_df.columns)[:-1]\n",
    "target = 'Y'\n",
    "\n",
    "q80 = int(in_df.shape[0]*0.8)\n",
    "q90 = int(in_df.shape[0]*0.9) \n",
    "train_5 = in_df.iloc[:q80]\n",
    "val_5 = in_df.iloc[q80:q90]\n",
    "test_5 = in_df.iloc[q90:]\n",
    "\n",
    "es = EarlyStopping(monitor='mean_squared_error', mode='min', verbose=1, patience=10, min_delta = 1)\n",
    "\n",
    "model_5 = compile_nn(predictors_5)\n",
    "history_5 = model_5.fit(np.array(train_5[predictors_5]), np.array(train_5[target])\n",
    "                    ,validation_data=(val_5[predictors_5], val_5[target])\n",
    "                    ,epochs=50\n",
    "                    ,callbacks = [es]\n",
    "                   )"
   ]
  },
  {
   "cell_type": "code",
   "execution_count": 276,
   "id": "590781e3",
   "metadata": {},
   "outputs": [
    {
     "data": {
      "image/png": "[encoded data removed]",
      "text/plain": [
       "<Figure size 640x480 with 4 Axes>"
      ]
     },
     "metadata": {},
     "output_type": "display_data"
    }
   ],
   "source": [
    "fig, ax = plt.subplots(2,2)\n",
    "ax[0,0].plot(history_20.history['loss'], label = 'Training loss')\n",
    "ax[0,0].plot(history_20.history['val_loss'], label = 'Validation loss')\n",
    "ax[0,1].plot(history_20.history['mean_squared_error'], label = 'Training mse')\n",
    "ax[0,1].plot(history_20.history['val_mean_squared_error'], label = 'Validation mse')\n",
    "ax[0,0].set_title('20 days history loss')\n",
    "ax[0,1].set_title('20 days history MSE')\n",
    "\n",
    "ax[1,0].plot(history_5.history['loss'], label = 'Training loss')\n",
    "ax[1,0].plot(history_5.history['val_loss'], label = 'Validation loss')\n",
    "ax[1,1].plot(history_5.history['mean_squared_error'], label = 'Training mse')\n",
    "ax[1,1].plot(history_5.history['val_mean_squared_error'], label = 'Validation mse')\n",
    "ax[1,0].set_title('5 days history loss')\n",
    "ax[1,1].set_title('5 days history MSE')\n",
    "plt.tight_layout();"
   ]
  },
  {
   "cell_type": "code",
   "execution_count": 275,
   "id": "dd2501f0",
   "metadata": {},
   "outputs": [
    {
     "name": "stdout",
     "output_type": "stream",
     "text": [
      "123/123 [==============================] - 2s 5ms/step\n",
      "16/16 [==============================] - 0s 5ms/step\n",
      "16/16 [==============================] - 0s 5ms/step\n",
      "123/123 [==============================] - 3s 13ms/step\n",
      "16/16 [==============================] - 0s 15ms/step\n",
      "16/16 [==============================] - 0s 23ms/step\n"
     ]
    }
   ],
   "source": [
    "train_predictions_5 = scaler.inverse_transform(model_5.predict(train_5[predictors_5]).flatten().reshape(1, -1))[0]\n",
    "val_predictions_5 = scaler.inverse_transform(model_5.predict(val_5[predictors_5]).flatten().reshape(1, -1))[0]\n",
    "test_predictions_5 = scaler.inverse_transform(model_5.predict(test_5[predictors_5]).flatten().reshape(1, -1))[0]\n",
    "train_predictions_20 = scaler.inverse_transform(model_20.predict(train_20[predictors_20]).flatten().reshape(1, -1))[0]\n",
    "val_predictions_20 = scaler.inverse_transform(model_20.predict(val_20[predictors_20]).flatten().reshape(1, -1))[0]\n",
    "test_predictions_20 = scaler.inverse_transform(model_20.predict(test_20[predictors_20]).flatten().reshape(1, -1))[0]"
   ]
  },
  {
   "cell_type": "code",
   "execution_count": 278,
   "id": "80805318",
   "metadata": {
    "scrolled": false
   },
   "outputs": [
    {
     "data": {
      "image/png": "[encoded data removed]",
      "text/plain": [
       "<Figure size 640x480 with 1 Axes>"
      ]
     },
     "metadata": {},
     "output_type": "display_data"
    }
   ],
   "source": [
    "conc_preds_5 = np.concatenate((train_predictions_5, val_predictions_5, test_predictions_5))\n",
    "conc_preds_20 = np.concatenate((train_predictions_20, val_predictions_20, test_predictions_20))\n",
    "\n",
    "conc_obs = np.concatenate((train[target], val[target], test[target]))\n",
    "\n",
    "plt.plot(conc_obs, label = 'Observation')\n",
    "plt.plot(conc_preds_5, label = 'Predictions 5 days')\n",
    "plt.plot(conc_preds_20, label = 'Predictions 20 days')\n",
    "\n",
    "\n",
    "plt.plot((len(train_predictions), len(train_predictions)),(0, max(conc_obs)), color = 'k')\n",
    "plt.plot((len(train_predictions)+len(val_predictions), len(train_predictions)+len(val_predictions)),(0, max(conc_obs)), color = 'k')\n",
    "\n",
    "plt.xlim(3500,5000)\n",
    "plt.legend()\n",
    "plt.show()"
   ]
  },
  {
   "cell_type": "code",
   "execution_count": 285,
   "id": "9c2aa986",
   "metadata": {},
   "outputs": [
    {
     "name": "stdout",
     "output_type": "stream",
     "text": [
      "5 day history:\n",
      "RMSE: 0.0032901682220259592\n"
     ]
    }
   ],
   "source": [
    "print('5 day history:')\n",
    "from sklearn.metrics import mean_squared_error\n",
    "error = mean_squared_error(test_5[target], test_predictions_5)\n",
    "print(f'RMSE: {error}')"
   ]
  },
  {
   "cell_type": "code",
   "execution_count": 286,
   "id": "2a64ecb3",
   "metadata": {},
   "outputs": [
    {
     "name": "stdout",
     "output_type": "stream",
     "text": [
      "20 day history:\n",
      "RMSE: 0.0017008631433523666\n"
     ]
    }
   ],
   "source": [
    "print('20 day history:')\n",
    "from sklearn.metrics import mean_squared_error\n",
    "error = mean_squared_error(test_20[target], test_predictions_20)\n",
    "print(f'RMSE: {error}')"
   ]
  },
  {
   "cell_type": "markdown",
   "id": "a0a05e10",
   "metadata": {},
   "source": [
    "<a id=\"04\"></a>\n",
    "# Follow up\n",
    "[back to top](#top)"
   ]
  },
  {
   "cell_type": "markdown",
   "id": "57e12959",
   "metadata": {},
   "source": [
    "The follow up to this baseline prediction is continued in the succeeding Jupyter notebook"
   ]
  },
  {
   "cell_type": "code",
   "execution_count": null,
   "id": "2e3cc728",
   "metadata": {},
   "outputs": [],
   "source": []
  }
 ],
 "metadata": {
  "kernelspec": {
   "display_name": "DS-Sample",
   "language": "python",
   "name": "ds-sample"
  },
  "language_info": {
   "codemirror_mode": {
    "name": "ipython",
    "version": 3
   },
   "file_extension": ".py",
   "mimetype": "text/x-python",
   "name": "python",
   "nbconvert_exporter": "python",
   "pygments_lexer": "ipython3",
   "version": "3.10.12"
  }
 },
 "nbformat": 4,
 "nbformat_minor": 5
}
