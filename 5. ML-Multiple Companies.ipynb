{
 "cells": [
  {
   "cell_type": "markdown",
   "id": "6b5539a3",
   "metadata": {},
   "source": [
    "# <b><u>This notebook is still work in progress </b></u>"
   ]
  },
  {
   "cell_type": "markdown",
   "id": "19fd58c2",
   "metadata": {},
   "source": [
    "This notebook will explore using several company data to develop closing price indicator (if the closing price will be higher or lower the following day)"
   ]
  },
  {
   "cell_type": "code",
   "execution_count": null,
   "id": "d566ab80",
   "metadata": {},
   "outputs": [],
   "source": []
  },
  {
   "cell_type": "code",
   "execution_count": null,
   "id": "2733e22a",
   "metadata": {},
   "outputs": [],
   "source": []
  }
 ],
 "metadata": {
  "kernelspec": {
   "display_name": "DS-Sample",
   "language": "python",
   "name": "ds-sample"
  },
  "language_info": {
   "codemirror_mode": {
    "name": "ipython",
    "version": 3
   },
   "file_extension": ".py",
   "mimetype": "text/x-python",
   "name": "python",
   "nbconvert_exporter": "python",
   "pygments_lexer": "ipython3",
   "version": "3.10.12"
  }
 },
 "nbformat": 4,
 "nbformat_minor": 5
}
