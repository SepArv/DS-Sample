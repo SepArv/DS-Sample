{
 "cells": [
  {
   "cell_type": "code",
   "execution_count": 2,
   "id": "30be5617",
   "metadata": {},
   "outputs": [
    {
     "data": {
      "text/html": [
       "<div>\n",
       "<style scoped>\n",
       "    .dataframe tbody tr th:only-of-type {\n",
       "        vertical-align: middle;\n",
       "    }\n",
       "\n",
       "    .dataframe tbody tr th {\n",
       "        vertical-align: top;\n",
       "    }\n",
       "\n",
       "    .dataframe thead th {\n",
       "        text-align: right;\n",
       "    }\n",
       "</style>\n",
       "<table border=\"1\" class=\"dataframe\">\n",
       "  <thead>\n",
       "    <tr style=\"text-align: right;\">\n",
       "      <th></th>\n",
       "      <th>Open</th>\n",
       "      <th>High</th>\n",
       "      <th>Low</th>\n",
       "      <th>Close</th>\n",
       "      <th>Volume</th>\n",
       "      <th>Dividends</th>\n",
       "      <th>Stock Splits</th>\n",
       "    </tr>\n",
       "    <tr>\n",
       "      <th>Date</th>\n",
       "      <th></th>\n",
       "      <th></th>\n",
       "      <th></th>\n",
       "      <th></th>\n",
       "      <th></th>\n",
       "      <th></th>\n",
       "      <th></th>\n",
       "    </tr>\n",
       "  </thead>\n",
       "  <tbody>\n",
       "    <tr>\n",
       "      <th>1986-03-13 00:00:00-05:00</th>\n",
       "      <td>0.055121</td>\n",
       "      <td>0.063227</td>\n",
       "      <td>0.055121</td>\n",
       "      <td>0.060524</td>\n",
       "      <td>1031788800</td>\n",
       "      <td>0.0</td>\n",
       "      <td>0.0</td>\n",
       "    </tr>\n",
       "    <tr>\n",
       "      <th>1986-03-14 00:00:00-05:00</th>\n",
       "      <td>0.060524</td>\n",
       "      <td>0.063767</td>\n",
       "      <td>0.060524</td>\n",
       "      <td>0.062686</td>\n",
       "      <td>308160000</td>\n",
       "      <td>0.0</td>\n",
       "      <td>0.0</td>\n",
       "    </tr>\n",
       "    <tr>\n",
       "      <th>1986-03-17 00:00:00-05:00</th>\n",
       "      <td>0.062686</td>\n",
       "      <td>0.064307</td>\n",
       "      <td>0.062686</td>\n",
       "      <td>0.063767</td>\n",
       "      <td>133171200</td>\n",
       "      <td>0.0</td>\n",
       "      <td>0.0</td>\n",
       "    </tr>\n",
       "    <tr>\n",
       "      <th>1986-03-18 00:00:00-05:00</th>\n",
       "      <td>0.063767</td>\n",
       "      <td>0.064307</td>\n",
       "      <td>0.061605</td>\n",
       "      <td>0.062145</td>\n",
       "      <td>67766400</td>\n",
       "      <td>0.0</td>\n",
       "      <td>0.0</td>\n",
       "    </tr>\n",
       "    <tr>\n",
       "      <th>1986-03-19 00:00:00-05:00</th>\n",
       "      <td>0.062145</td>\n",
       "      <td>0.062686</td>\n",
       "      <td>0.060524</td>\n",
       "      <td>0.061065</td>\n",
       "      <td>47894400</td>\n",
       "      <td>0.0</td>\n",
       "      <td>0.0</td>\n",
       "    </tr>\n",
       "  </tbody>\n",
       "</table>\n",
       "</div>"
      ],
      "text/plain": [
       "                               Open      High       Low     Close      Volume  \\\n",
       "Date                                                                            \n",
       "1986-03-13 00:00:00-05:00  0.055121  0.063227  0.055121  0.060524  1031788800   \n",
       "1986-03-14 00:00:00-05:00  0.060524  0.063767  0.060524  0.062686   308160000   \n",
       "1986-03-17 00:00:00-05:00  0.062686  0.064307  0.062686  0.063767   133171200   \n",
       "1986-03-18 00:00:00-05:00  0.063767  0.064307  0.061605  0.062145    67766400   \n",
       "1986-03-19 00:00:00-05:00  0.062145  0.062686  0.060524  0.061065    47894400   \n",
       "\n",
       "                           Dividends  Stock Splits  \n",
       "Date                                                \n",
       "1986-03-13 00:00:00-05:00        0.0           0.0  \n",
       "1986-03-14 00:00:00-05:00        0.0           0.0  \n",
       "1986-03-17 00:00:00-05:00        0.0           0.0  \n",
       "1986-03-18 00:00:00-05:00        0.0           0.0  \n",
       "1986-03-19 00:00:00-05:00        0.0           0.0  "
      ]
     },
     "execution_count": 2,
     "metadata": {},
     "output_type": "execute_result"
    }
   ],
   "source": [
    "import pandas as pd\n",
    "import numpy as np\n",
    "import yfinance as yf\n",
    "\n",
    "ticker = 'MSFT'\n",
    "ticker_data = yf.Ticker(ticker)\n",
    "\n",
    "data = ticker_data.history(period=\"max\")\n",
    "data.head()\n"
   ]
  },
  {
   "cell_type": "code",
   "execution_count": 3,
   "id": "292863a3",
   "metadata": {},
   "outputs": [],
   "source": [
    "hist= data.copy(deep=True)"
   ]
  },
  {
   "cell_type": "code",
   "execution_count": 4,
   "id": "8e1f5d77",
   "metadata": {},
   "outputs": [
    {
     "data": {
      "text/plain": [
       "<Axes: xlabel='Date'>"
      ]
     },
     "execution_count": 4,
     "metadata": {},
     "output_type": "execute_result"
    },
    {
     "data": {
      "image/png": "[encoded data removed]",
      "text/plain": [
       "<Figure size 640x480 with 1 Axes>"
      ]
     },
     "metadata": {},
     "output_type": "display_data"
    }
   ],
   "source": [
    "hist.plot.line(y=\"Close\", use_index=True)"
   ]
  },
  {
   "cell_type": "code",
   "execution_count": 90,
   "id": "70e1c65b",
   "metadata": {},
   "outputs": [],
   "source": [
    "del hist[\"Dividends\"]\n",
    "del hist[\"Stock Splits\"]"
   ]
  },
  {
   "cell_type": "code",
   "execution_count": 5,
   "id": "d118dbc2",
   "metadata": {},
   "outputs": [],
   "source": [
    "hist[\"Tomorrow\"] = hist[\"Close\"].shift(-1)\n",
    "hist[\"Target\"] = (hist[\"Tomorrow\"] > hist[\"Close\"]).astype(int)"
   ]
  },
  {
   "cell_type": "code",
   "execution_count": 6,
   "id": "1fb07c25",
   "metadata": {},
   "outputs": [],
   "source": [
    "hist = hist.loc[\"2000-01-01\":].copy()"
   ]
  },
  {
   "cell_type": "code",
   "execution_count": 7,
   "id": "610bf0e7",
   "metadata": {},
   "outputs": [
    {
     "data": {
      "text/html": [
       "<style>#sk-container-id-1 {color: black;background-color: white;}#sk-container-id-1 pre{padding: 0;}#sk-container-id-1 div.sk-toggleable {background-color: white;}#sk-container-id-1 label.sk-toggleable__label {cursor: pointer;display: block;width: 100%;margin-bottom: 0;padding: 0.3em;box-sizing: border-box;text-align: center;}#sk-container-id-1 label.sk-toggleable__label-arrow:before {content: \"▸\";float: left;margin-right: 0.25em;color: #696969;}#sk-container-id-1 label.sk-toggleable__label-arrow:hover:before {color: black;}#sk-container-id-1 div.sk-estimator:hover label.sk-toggleable__label-arrow:before {color: black;}#sk-container-id-1 div.sk-toggleable__content {max-height: 0;max-width: 0;overflow: hidden;text-align: left;background-color: #f0f8ff;}#sk-container-id-1 div.sk-toggleable__content pre {margin: 0.2em;color: black;border-radius: 0.25em;background-color: #f0f8ff;}#sk-container-id-1 input.sk-toggleable__control:checked~div.sk-toggleable__content {max-height: 200px;max-width: 100%;overflow: auto;}#sk-container-id-1 input.sk-toggleable__control:checked~label.sk-toggleable__label-arrow:before {content: \"▾\";}#sk-container-id-1 div.sk-estimator input.sk-toggleable__control:checked~label.sk-toggleable__label {background-color: #d4ebff;}#sk-container-id-1 div.sk-label input.sk-toggleable__control:checked~label.sk-toggleable__label {background-color: #d4ebff;}#sk-container-id-1 input.sk-hidden--visually {border: 0;clip: rect(1px 1px 1px 1px);clip: rect(1px, 1px, 1px, 1px);height: 1px;margin: -1px;overflow: hidden;padding: 0;position: absolute;width: 1px;}#sk-container-id-1 div.sk-estimator {font-family: monospace;background-color: #f0f8ff;border: 1px dotted black;border-radius: 0.25em;box-sizing: border-box;margin-bottom: 0.5em;}#sk-container-id-1 div.sk-estimator:hover {background-color: #d4ebff;}#sk-container-id-1 div.sk-parallel-item::after {content: \"\";width: 100%;border-bottom: 1px solid gray;flex-grow: 1;}#sk-container-id-1 div.sk-label:hover label.sk-toggleable__label {background-color: #d4ebff;}#sk-container-id-1 div.sk-serial::before {content: \"\";position: absolute;border-left: 1px solid gray;box-sizing: border-box;top: 0;bottom: 0;left: 50%;z-index: 0;}#sk-container-id-1 div.sk-serial {display: flex;flex-direction: column;align-items: center;background-color: white;padding-right: 0.2em;padding-left: 0.2em;position: relative;}#sk-container-id-1 div.sk-item {position: relative;z-index: 1;}#sk-container-id-1 div.sk-parallel {display: flex;align-items: stretch;justify-content: center;background-color: white;position: relative;}#sk-container-id-1 div.sk-item::before, #sk-container-id-1 div.sk-parallel-item::before {content: \"\";position: absolute;border-left: 1px solid gray;box-sizing: border-box;top: 0;bottom: 0;left: 50%;z-index: -1;}#sk-container-id-1 div.sk-parallel-item {display: flex;flex-direction: column;z-index: 1;position: relative;background-color: white;}#sk-container-id-1 div.sk-parallel-item:first-child::after {align-self: flex-end;width: 50%;}#sk-container-id-1 div.sk-parallel-item:last-child::after {align-self: flex-start;width: 50%;}#sk-container-id-1 div.sk-parallel-item:only-child::after {width: 0;}#sk-container-id-1 div.sk-dashed-wrapped {border: 1px dashed gray;margin: 0 0.4em 0.5em 0.4em;box-sizing: border-box;padding-bottom: 0.4em;background-color: white;}#sk-container-id-1 div.sk-label label {font-family: monospace;font-weight: bold;display: inline-block;line-height: 1.2em;}#sk-container-id-1 div.sk-label-container {text-align: center;}#sk-container-id-1 div.sk-container {/* jupyter's `normalize.less` sets `[hidden] { display: none; }` but bootstrap.min.css set `[hidden] { display: none !important; }` so we also need the `!important` here to be able to override the default hidden behavior on the sphinx rendered scikit-learn.org. See: https://github.com/scikit-learn/scikit-learn/issues/21755 */display: inline-block !important;position: relative;}#sk-container-id-1 div.sk-text-repr-fallback {display: none;}</style><div id=\"sk-container-id-1\" class=\"sk-top-container\"><div class=\"sk-text-repr-fallback\"><pre>RandomForestClassifier(min_samples_split=100, random_state=1)</pre><b>In a Jupyter environment, please rerun this cell to show the HTML representation or trust the notebook. <br />On GitHub, the HTML representation is unable to render, please try loading this page with nbviewer.org.</b></div><div class=\"sk-container\" hidden><div class=\"sk-item\"><div class=\"sk-estimator sk-toggleable\"><input class=\"sk-toggleable__control sk-hidden--visually\" id=\"sk-estimator-id-1\" type=\"checkbox\" checked><label for=\"sk-estimator-id-1\" class=\"sk-toggleable__label sk-toggleable__label-arrow\">RandomForestClassifier</label><div class=\"sk-toggleable__content\"><pre>RandomForestClassifier(min_samples_split=100, random_state=1)</pre></div></div></div></div></div>"
      ],
      "text/plain": [
       "RandomForestClassifier(min_samples_split=100, random_state=1)"
      ]
     },
     "execution_count": 7,
     "metadata": {},
     "output_type": "execute_result"
    }
   ],
   "source": [
    "from sklearn.ensemble import RandomForestClassifier\n",
    "\n",
    "model = RandomForestClassifier(n_estimators=100, min_samples_split=100, random_state=1)\n",
    "\n",
    "target = 'Target'\n",
    "predictors = [\"Close\", \"Volume\", \"Open\", \"High\", \"Low\"]\n",
    "\n",
    "train = hist.iloc[:-100]\n",
    "test = hist.iloc[-100:]\n",
    "\n",
    "model.fit(train[predictors], train[target])"
   ]
  },
  {
   "cell_type": "code",
   "execution_count": 8,
   "id": "e9ab552c",
   "metadata": {},
   "outputs": [
    {
     "data": {
      "text/plain": [
       "0.5897435897435898"
      ]
     },
     "execution_count": 8,
     "metadata": {},
     "output_type": "execute_result"
    }
   ],
   "source": [
    "from sklearn.metrics import precision_score\n",
    "\n",
    "preds = model.predict(test[predictors])\n",
    "preds = pd.Series(preds, index=test.index)\n",
    "precision_score(test[\"Target\"], preds)"
   ]
  },
  {
   "cell_type": "code",
   "execution_count": 9,
   "id": "323de52c",
   "metadata": {},
   "outputs": [],
   "source": [
    "def predict(train, test, predictors, target, model):\n",
    "    model.fit(train[predictors], train[\"Target\"])\n",
    "    preds = model.predict(test[predictors])\n",
    "    preds = pd.Series(preds, index=test.index, name=\"Predictions\")\n",
    "    combined = pd.concat([test[target], preds], axis=1)\n",
    "    return combined"
   ]
  },
  {
   "cell_type": "code",
   "execution_count": 10,
   "id": "d79e3f26",
   "metadata": {},
   "outputs": [],
   "source": [
    "def backtest(data, model, predictors, taget, start=2500, step=250):\n",
    "    all_predictions = []\n",
    "    for i in range(start, data.shape[0], step):\n",
    "        train = data.iloc[0:i].copy()\n",
    "        test = data.iloc[i:(i+step)].copy()\n",
    "        predictions = predict(train, test, predictors,target, model)\n",
    "        all_predictions.append(predictions)\n",
    "    return pd.concat(all_predictions)"
   ]
  },
  {
   "cell_type": "code",
   "execution_count": 11,
   "id": "f7abbecc",
   "metadata": {},
   "outputs": [],
   "source": [
    "predictions = backtest(hist, model, predictors, target)"
   ]
  },
  {
   "cell_type": "code",
   "execution_count": 12,
   "id": "65e506b3",
   "metadata": {},
   "outputs": [
    {
     "data": {
      "text/plain": [
       "0    2138\n",
       "1    1285\n",
       "Name: Predictions, dtype: int64"
      ]
     },
     "execution_count": 12,
     "metadata": {},
     "output_type": "execute_result"
    }
   ],
   "source": [
    "predictions[\"Predictions\"].value_counts()"
   ]
  },
  {
   "cell_type": "markdown",
   "id": "1297203b",
   "metadata": {},
   "source": [
    "prediction says that 1200 times the price would increase"
   ]
  },
  {
   "cell_type": "code",
   "execution_count": 13,
   "id": "9d9c0232",
   "metadata": {},
   "outputs": [
    {
     "data": {
      "text/plain": [
       "0.5198443579766537"
      ]
     },
     "execution_count": 13,
     "metadata": {},
     "output_type": "execute_result"
    }
   ],
   "source": [
    "precision_score(predictions[\"Target\"], predictions[\"Predictions\"])"
   ]
  },
  {
   "cell_type": "code",
   "execution_count": 14,
   "id": "0516e5e8",
   "metadata": {},
   "outputs": [
    {
     "data": {
      "text/plain": [
       "1    0.521472\n",
       "0    0.478528\n",
       "Name: Target, dtype: float64"
      ]
     },
     "execution_count": 14,
     "metadata": {},
     "output_type": "execute_result"
    }
   ],
   "source": [
    "predictions[\"Target\"].value_counts() / predictions.shape[0]"
   ]
  },
  {
   "cell_type": "code",
   "execution_count": 16,
   "id": "7c8a1742",
   "metadata": {},
   "outputs": [
    {
     "name": "stdout",
     "output_type": "stream",
     "text": [
      "Recall: 0.3742296918767507 \n",
      "Precision: 0.5198443579766537 \n",
      "Accuracy: 0.4934268185801928 \n",
      "F1: 0.43517915309446253\n"
     ]
    }
   ],
   "source": [
    "from sklearn.metrics import recall_score, precision_score, accuracy_score, f1_score\n",
    "recall = recall_score(predictions[\"Target\"], predictions[\"Predictions\"])\n",
    "precision = precision_score(predictions[\"Target\"], predictions[\"Predictions\"])\n",
    "accuracy = accuracy_score(predictions[\"Target\"], predictions[\"Predictions\"])\n",
    "f1 = f1_score(predictions[\"Target\"], predictions[\"Predictions\"])\n",
    "print(f'Recall: {recall} \\nPrecision: {precision} \\nAccuracy: {accuracy} \\nF1: {f1}')"
   ]
  },
  {
   "cell_type": "markdown",
   "id": "ba01efe3",
   "metadata": {},
   "source": [
    "Recall: how many actually possitive cases were correctly identified TP/(TP+FN)  \n",
    "Precision: how many positive predictions were REALLY possitive TP/(TP+FP)  \n",
    "Accuracy: number of correct prediction/ number of all predictions (TP+TN)/all  \n",
    "\n",
    "High recall: more likely to mark negative results as possitive  \n",
    "                when price was going down we indicated that it will go up  \n",
    "High precision: more likely to mark possitive result as negative  "
   ]
  },
  {
   "cell_type": "code",
   "execution_count": 18,
   "id": "3e421dfe",
   "metadata": {},
   "outputs": [],
   "source": [
    "from sklearn.metrics import confusion_matrix\n",
    "cf_matrix = confusion_matrix(predictions[\"Target\"], predictions[\"Predictions\"])"
   ]
  },
  {
   "cell_type": "code",
   "execution_count": 19,
   "id": "e20e3f45",
   "metadata": {},
   "outputs": [
    {
     "data": {
      "image/png": "[encoded data removed]",
      "text/plain": [
       "<Figure size 640x480 with 2 Axes>"
      ]
     },
     "metadata": {},
     "output_type": "display_data"
    }
   ],
   "source": [
    "import matplotlib.pyplot as plt\n",
    "from sklearn.metrics import ConfusionMatrixDisplay\n",
    "\n",
    "disp = ConfusionMatrixDisplay(confusion_matrix=cf_matrix)\n",
    "disp.plot()\n",
    "plt.show()"
   ]
  },
  {
   "cell_type": "markdown",
   "id": "9ed30bbe",
   "metadata": {},
   "source": [
    "Model correctly identified price not increasing the following day 1012 times (TP) and correctly identified price INcreasing the following day 672 times (TN). The FN case - The Price increased while model predicted a decrease 1109 times (almost the same as TP and FP - 625. "
   ]
  },
  {
   "cell_type": "markdown",
   "id": "dcf75d76",
   "metadata": {},
   "source": [
    "Lets crate new predictors"
   ]
  },
  {
   "cell_type": "code",
   "execution_count": 20,
   "id": "8d622ccd",
   "metadata": {},
   "outputs": [],
   "source": [
    "horizons = [2,5,60,250,1000]\n",
    "new_predictors = []\n",
    "\n",
    "for horizon in horizons:\n",
    "    rolling_averages = hist.rolling(horizon).mean()\n",
    "    \n",
    "    ratio_column = f\"Close_Ratio_{horizon}\"\n",
    "    hist[ratio_column] = hist[\"Close\"] / rolling_averages[\"Close\"]\n",
    "    \n",
    "    trend_column = f\"Trend_{horizon}\"\n",
    "    hist[trend_column] = hist.shift(1).rolling(horizon).sum()[\"Target\"]\n",
    "    \n",
    "    new_predictors+= [ratio_column, trend_column]"
   ]
  },
  {
   "cell_type": "code",
   "execution_count": 21,
   "id": "d15d8271",
   "metadata": {},
   "outputs": [],
   "source": [
    "hist = hist.dropna()"
   ]
  },
  {
   "cell_type": "code",
   "execution_count": 22,
   "id": "50f2e246",
   "metadata": {},
   "outputs": [
    {
     "data": {
      "text/html": [
       "<div>\n",
       "<style scoped>\n",
       "    .dataframe tbody tr th:only-of-type {\n",
       "        vertical-align: middle;\n",
       "    }\n",
       "\n",
       "    .dataframe tbody tr th {\n",
       "        vertical-align: top;\n",
       "    }\n",
       "\n",
       "    .dataframe thead th {\n",
       "        text-align: right;\n",
       "    }\n",
       "</style>\n",
       "<table border=\"1\" class=\"dataframe\">\n",
       "  <thead>\n",
       "    <tr style=\"text-align: right;\">\n",
       "      <th></th>\n",
       "      <th>Open</th>\n",
       "      <th>High</th>\n",
       "      <th>Low</th>\n",
       "      <th>Close</th>\n",
       "      <th>Volume</th>\n",
       "      <th>Dividends</th>\n",
       "      <th>Stock Splits</th>\n",
       "      <th>Tomorrow</th>\n",
       "      <th>Target</th>\n",
       "      <th>Close_Ratio_2</th>\n",
       "      <th>Trend_2</th>\n",
       "      <th>Close_Ratio_5</th>\n",
       "      <th>Trend_5</th>\n",
       "      <th>Close_Ratio_60</th>\n",
       "      <th>Trend_60</th>\n",
       "      <th>Close_Ratio_250</th>\n",
       "      <th>Trend_250</th>\n",
       "      <th>Close_Ratio_1000</th>\n",
       "      <th>Trend_1000</th>\n",
       "    </tr>\n",
       "    <tr>\n",
       "      <th>Date</th>\n",
       "      <th></th>\n",
       "      <th></th>\n",
       "      <th></th>\n",
       "      <th></th>\n",
       "      <th></th>\n",
       "      <th></th>\n",
       "      <th></th>\n",
       "      <th></th>\n",
       "      <th></th>\n",
       "      <th></th>\n",
       "      <th></th>\n",
       "      <th></th>\n",
       "      <th></th>\n",
       "      <th></th>\n",
       "      <th></th>\n",
       "      <th></th>\n",
       "      <th></th>\n",
       "      <th></th>\n",
       "      <th></th>\n",
       "    </tr>\n",
       "  </thead>\n",
       "  <tbody>\n",
       "    <tr>\n",
       "      <th>2003-12-26 00:00:00-05:00</th>\n",
       "      <td>16.988565</td>\n",
       "      <td>17.114174</td>\n",
       "      <td>16.957164</td>\n",
       "      <td>17.089052</td>\n",
       "      <td>12076900</td>\n",
       "      <td>0.0</td>\n",
       "      <td>0.0</td>\n",
       "      <td>17.246058</td>\n",
       "      <td>1</td>\n",
       "      <td>1.003134</td>\n",
       "      <td>1.0</td>\n",
       "      <td>1.000810</td>\n",
       "      <td>1.0</td>\n",
       "      <td>1.010061</td>\n",
       "      <td>31.0</td>\n",
       "      <td>1.048220</td>\n",
       "      <td>129.0</td>\n",
       "      <td>0.894303</td>\n",
       "      <td>489.0</td>\n",
       "    </tr>\n",
       "    <tr>\n",
       "      <th>2003-12-29 00:00:00-05:00</th>\n",
       "      <td>17.089047</td>\n",
       "      <td>17.290022</td>\n",
       "      <td>17.057645</td>\n",
       "      <td>17.246058</td>\n",
       "      <td>40426700</td>\n",
       "      <td>0.0</td>\n",
       "      <td>0.0</td>\n",
       "      <td>17.283735</td>\n",
       "      <td>1</td>\n",
       "      <td>1.004573</td>\n",
       "      <td>2.0</td>\n",
       "      <td>1.009262</td>\n",
       "      <td>2.0</td>\n",
       "      <td>1.019896</td>\n",
       "      <td>32.0</td>\n",
       "      <td>1.057552</td>\n",
       "      <td>130.0</td>\n",
       "      <td>0.903361</td>\n",
       "      <td>490.0</td>\n",
       "    </tr>\n",
       "    <tr>\n",
       "      <th>2003-12-30 00:00:00-05:00</th>\n",
       "      <td>17.214650</td>\n",
       "      <td>17.302576</td>\n",
       "      <td>17.208370</td>\n",
       "      <td>17.283735</td>\n",
       "      <td>34406600</td>\n",
       "      <td>0.0</td>\n",
       "      <td>0.0</td>\n",
       "      <td>17.189531</td>\n",
       "      <td>0</td>\n",
       "      <td>1.001091</td>\n",
       "      <td>2.0</td>\n",
       "      <td>1.008945</td>\n",
       "      <td>3.0</td>\n",
       "      <td>1.023010</td>\n",
       "      <td>32.0</td>\n",
       "      <td>1.059716</td>\n",
       "      <td>130.0</td>\n",
       "      <td>0.906196</td>\n",
       "      <td>490.0</td>\n",
       "    </tr>\n",
       "    <tr>\n",
       "      <th>2003-12-31 00:00:00-05:00</th>\n",
       "      <td>17.220933</td>\n",
       "      <td>17.302578</td>\n",
       "      <td>17.101605</td>\n",
       "      <td>17.189531</td>\n",
       "      <td>42198900</td>\n",
       "      <td>0.0</td>\n",
       "      <td>0.0</td>\n",
       "      <td>17.239777</td>\n",
       "      <td>1</td>\n",
       "      <td>0.997267</td>\n",
       "      <td>1.0</td>\n",
       "      <td>1.001830</td>\n",
       "      <td>3.0</td>\n",
       "      <td>1.018480</td>\n",
       "      <td>31.0</td>\n",
       "      <td>1.053825</td>\n",
       "      <td>129.0</td>\n",
       "      <td>0.902063</td>\n",
       "      <td>490.0</td>\n",
       "    </tr>\n",
       "    <tr>\n",
       "      <th>2004-01-02 00:00:00-05:00</th>\n",
       "      <td>17.321422</td>\n",
       "      <td>17.440750</td>\n",
       "      <td>17.164411</td>\n",
       "      <td>17.239777</td>\n",
       "      <td>44487700</td>\n",
       "      <td>0.0</td>\n",
       "      <td>0.0</td>\n",
       "      <td>17.673119</td>\n",
       "      <td>1</td>\n",
       "      <td>1.001459</td>\n",
       "      <td>1.0</td>\n",
       "      <td>1.001752</td>\n",
       "      <td>4.0</td>\n",
       "      <td>1.022425</td>\n",
       "      <td>32.0</td>\n",
       "      <td>1.056855</td>\n",
       "      <td>129.0</td>\n",
       "      <td>0.905529</td>\n",
       "      <td>490.0</td>\n",
       "    </tr>\n",
       "  </tbody>\n",
       "</table>\n",
       "</div>"
      ],
      "text/plain": [
       "                                Open       High        Low      Close  \\\n",
       "Date                                                                    \n",
       "2003-12-26 00:00:00-05:00  16.988565  17.114174  16.957164  17.089052   \n",
       "2003-12-29 00:00:00-05:00  17.089047  17.290022  17.057645  17.246058   \n",
       "2003-12-30 00:00:00-05:00  17.214650  17.302576  17.208370  17.283735   \n",
       "2003-12-31 00:00:00-05:00  17.220933  17.302578  17.101605  17.189531   \n",
       "2004-01-02 00:00:00-05:00  17.321422  17.440750  17.164411  17.239777   \n",
       "\n",
       "                             Volume  Dividends  Stock Splits   Tomorrow  \\\n",
       "Date                                                                      \n",
       "2003-12-26 00:00:00-05:00  12076900        0.0           0.0  17.246058   \n",
       "2003-12-29 00:00:00-05:00  40426700        0.0           0.0  17.283735   \n",
       "2003-12-30 00:00:00-05:00  34406600        0.0           0.0  17.189531   \n",
       "2003-12-31 00:00:00-05:00  42198900        0.0           0.0  17.239777   \n",
       "2004-01-02 00:00:00-05:00  44487700        0.0           0.0  17.673119   \n",
       "\n",
       "                           Target  Close_Ratio_2  Trend_2  Close_Ratio_5  \\\n",
       "Date                                                                       \n",
       "2003-12-26 00:00:00-05:00       1       1.003134      1.0       1.000810   \n",
       "2003-12-29 00:00:00-05:00       1       1.004573      2.0       1.009262   \n",
       "2003-12-30 00:00:00-05:00       0       1.001091      2.0       1.008945   \n",
       "2003-12-31 00:00:00-05:00       1       0.997267      1.0       1.001830   \n",
       "2004-01-02 00:00:00-05:00       1       1.001459      1.0       1.001752   \n",
       "\n",
       "                           Trend_5  Close_Ratio_60  Trend_60  Close_Ratio_250  \\\n",
       "Date                                                                            \n",
       "2003-12-26 00:00:00-05:00      1.0        1.010061      31.0         1.048220   \n",
       "2003-12-29 00:00:00-05:00      2.0        1.019896      32.0         1.057552   \n",
       "2003-12-30 00:00:00-05:00      3.0        1.023010      32.0         1.059716   \n",
       "2003-12-31 00:00:00-05:00      3.0        1.018480      31.0         1.053825   \n",
       "2004-01-02 00:00:00-05:00      4.0        1.022425      32.0         1.056855   \n",
       "\n",
       "                           Trend_250  Close_Ratio_1000  Trend_1000  \n",
       "Date                                                                \n",
       "2003-12-26 00:00:00-05:00      129.0          0.894303       489.0  \n",
       "2003-12-29 00:00:00-05:00      130.0          0.903361       490.0  \n",
       "2003-12-30 00:00:00-05:00      130.0          0.906196       490.0  \n",
       "2003-12-31 00:00:00-05:00      129.0          0.902063       490.0  \n",
       "2004-01-02 00:00:00-05:00      129.0          0.905529       490.0  "
      ]
     },
     "execution_count": 22,
     "metadata": {},
     "output_type": "execute_result"
    }
   ],
   "source": [
    "hist.head()"
   ]
  },
  {
   "cell_type": "code",
   "execution_count": 23,
   "id": "e8012123",
   "metadata": {},
   "outputs": [],
   "source": [
    "model = RandomForestClassifier(n_estimators=200, min_samples_split=50, random_state=1)"
   ]
  },
  {
   "cell_type": "code",
   "execution_count": 27,
   "id": "cf6e3980",
   "metadata": {},
   "outputs": [],
   "source": [
    "def predict(train, test, predictors, target, model, thrsh = 0.6):\n",
    "    #0.6 probability threshold so that we have a better confidence that price will increase\n",
    "    model.fit(train[predictors], train[target])\n",
    "    preds = model.predict_proba(test[predictors])[:,1] #predicts probability\n",
    "    preds[preds >=thrsh] = 1\n",
    "    preds[preds <thrsh] = 0\n",
    "    preds = pd.Series(preds, index=test.index, name=\"Predictions\")\n",
    "    combined = pd.concat([test[target], preds], axis=1)\n",
    "    return combined"
   ]
  },
  {
   "cell_type": "code",
   "execution_count": 28,
   "id": "94f130c3",
   "metadata": {},
   "outputs": [
    {
     "name": "stdout",
     "output_type": "stream",
     "text": [
      "Predictors:\n",
      "['Close_Ratio_2', 'Trend_2', 'Close_Ratio_5', 'Trend_5', 'Close_Ratio_60', 'Trend_60', 'Close_Ratio_250', 'Trend_250', 'Close_Ratio_1000', 'Trend_1000', 'Close', 'Volume']\n"
     ]
    }
   ],
   "source": [
    "target = 'Target'\n",
    "#predictors = predictors + new_predictors\n",
    "predictors = new_predictors + [\"Close\", \"Volume\"] #the other prices tell us little about the prediction \n",
    "print('Predictors:')\n",
    "print(predictors)\n",
    "predictions = backtest(hist, model, predictors, target)"
   ]
  },
  {
   "cell_type": "code",
   "execution_count": 29,
   "id": "0cd0bba8",
   "metadata": {},
   "outputs": [
    {
     "data": {
      "text/plain": [
       "0.0    2221\n",
       "1.0     201\n",
       "Name: Predictions, dtype: int64"
      ]
     },
     "execution_count": 29,
     "metadata": {},
     "output_type": "execute_result"
    }
   ],
   "source": [
    "predictions[\"Predictions\"].value_counts()"
   ]
  },
  {
   "cell_type": "markdown",
   "id": "09e1f105",
   "metadata": {},
   "source": [
    "So now we only predict 200 days when price will increase in contrary to rpevious results where it was 1200"
   ]
  },
  {
   "cell_type": "code",
   "execution_count": 30,
   "id": "db50001b",
   "metadata": {},
   "outputs": [
    {
     "data": {
      "text/plain": [
       "0.5024875621890548"
      ]
     },
     "execution_count": 30,
     "metadata": {},
     "output_type": "execute_result"
    }
   ],
   "source": [
    "precision_score(predictions[\"Target\"], predictions[\"Predictions\"])"
   ]
  },
  {
   "cell_type": "code",
   "execution_count": 31,
   "id": "5a22412b",
   "metadata": {},
   "outputs": [
    {
     "data": {
      "text/plain": [
       "1    0.529315\n",
       "0    0.470685\n",
       "Name: Target, dtype: float64"
      ]
     },
     "execution_count": 31,
     "metadata": {},
     "output_type": "execute_result"
    }
   ],
   "source": [
    "predictions[\"Target\"].value_counts() / predictions.shape[0]"
   ]
  },
  {
   "cell_type": "code",
   "execution_count": 32,
   "id": "ad476957",
   "metadata": {},
   "outputs": [
    {
     "data": {
      "text/plain": [
       "array([[1040,  100],\n",
       "       [1181,  101]], dtype=int64)"
      ]
     },
     "execution_count": 32,
     "metadata": {},
     "output_type": "execute_result"
    }
   ],
   "source": [
    "from sklearn.metrics import confusion_matrix\n",
    "cf_matrix = confusion_matrix(predictions[\"Target\"], predictions[\"Predictions\"])\n",
    "cf_matrix"
   ]
  },
  {
   "cell_type": "code",
   "execution_count": 33,
   "id": "ac07e0fc",
   "metadata": {},
   "outputs": [
    {
     "data": {
      "image/png": "[encoded data removed]",
      "text/plain": [
       "<Figure size 640x480 with 2 Axes>"
      ]
     },
     "metadata": {},
     "output_type": "display_data"
    }
   ],
   "source": [
    "import matplotlib.pyplot as plt\n",
    "from sklearn.metrics import ConfusionMatrixDisplay\n",
    "\n",
    "disp = ConfusionMatrixDisplay(confusion_matrix=cf_matrix)\n",
    "disp.plot()\n",
    "plt.show()"
   ]
  },
  {
   "cell_type": "code",
   "execution_count": 34,
   "id": "28ebd590",
   "metadata": {},
   "outputs": [
    {
     "name": "stdout",
     "output_type": "stream",
     "text": [
      "Recall: 0.07878315132605304 \n",
      "Precision: 0.5024875621890548 \n",
      "Accuracy: 0.47109826589595377 \n",
      "F1: 0.13621038435603505\n"
     ]
    }
   ],
   "source": [
    "recall = recall_score(predictions[\"Target\"], predictions[\"Predictions\"])\n",
    "precision = precision_score(predictions[\"Target\"], predictions[\"Predictions\"])\n",
    "accuracy = accuracy_score(predictions[\"Target\"], predictions[\"Predictions\"])\n",
    "f1 = f1_score(predictions[\"Target\"], predictions[\"Predictions\"])\n",
    "print(f'Recall: {recall} \\nPrecision: {precision} \\nAccuracy: {accuracy} \\nF1: {f1}')"
   ]
  },
  {
   "cell_type": "code",
   "execution_count": null,
   "id": "e19e4871",
   "metadata": {},
   "outputs": [],
   "source": []
  }
 ],
 "metadata": {
  "kernelspec": {
   "display_name": "DS-Sample",
   "language": "python",
   "name": "ds-sample"
  },
  "language_info": {
   "codemirror_mode": {
    "name": "ipython",
    "version": 3
   },
   "file_extension": ".py",
   "mimetype": "text/x-python",
   "name": "python",
   "nbconvert_exporter": "python",
   "pygments_lexer": "ipython3",
   "version": "3.10.12"
  }
 },
 "nbformat": 4,
 "nbformat_minor": 5
}
