{
 "cells": [
  {
   "cell_type": "code",
   "execution_count": 42,
   "id": "29d2f76a",
   "metadata": {},
   "outputs": [],
   "source": [
    "import pandas as pd\n",
    "import requests\n",
    "from bs4 import BeautifulSoup\n",
    "import os"
   ]
  },
  {
   "cell_type": "code",
   "execution_count": 91,
   "id": "e0dfb924",
   "metadata": {},
   "outputs": [],
   "source": [
    "def fetch_info():\n",
    "    try:\n",
    "        url = \"https://en.wikipedia.org/wiki/Nasdaq-100\"\n",
    "        headers = {\n",
    "            'User-Agent': 'Mozilla/5.0 (Windows NT 10.0; Win64; x64; rv:101.0) Gecko/20100101 Firefox/101.0',\n",
    "            'Accept': 'application/json',\n",
    "            'Accept-Language': 'en-US,en;q=0.5',\n",
    "        }        #  Send GET request\n",
    "        response = requests.get(url, headers=headers)\n",
    "        soup = BeautifulSoup(response.content, \"html.parser\")        #  Get the symbols table\n",
    "        tables = soup.find_all('table')        #  #  Convert table to dataframe\n",
    "        df = pd.read_html(str(tables))[4]        #  Rename symbol\n",
    "        df.rename(columns={\"Ticker\": \"Symbol\"}, inplace=True)        \n",
    "        return df\n",
    "    except:\n",
    "        print('Error loading data')\n",
    "        return None\n",
    "df =fetch_info()\n",
    "tickers = list(df['Symbol'])"
   ]
  },
  {
   "cell_type": "code",
   "execution_count": 93,
   "id": "d4b3da87",
   "metadata": {},
   "outputs": [],
   "source": [
    "API_key = '275e919c7106349d455ce0499f712df7'\n",
    "from urllib.request import urlopen\n",
    "import json"
   ]
  },
  {
   "cell_type": "code",
   "execution_count": 94,
   "id": "db195d4a",
   "metadata": {},
   "outputs": [],
   "source": [
    "def get_jsonparsed_data(url):\n",
    "    \"\"\"\n",
    "    Receive the content of ``url``, parse it as JSON and return the object.\n",
    "\n",
    "    Parameters\n",
    "    ----------\n",
    "    url : str\n",
    "\n",
    "    Returns\n",
    "    -------\n",
    "    dict\n",
    "    \"\"\"\n",
    "    response = urlopen(url)\n",
    "    data = response.read().decode(\"utf-8\")\n",
    "    return json.loads(data)"
   ]
  },
  {
   "cell_type": "code",
   "execution_count": 95,
   "id": "f05d3e33",
   "metadata": {},
   "outputs": [
    {
     "name": "stdout",
     "output_type": "stream",
     "text": [
      "<class 'list'>\n"
     ]
    }
   ],
   "source": [
    "#url = 'https://financialmodelingprep.com/api/v3/income-statement/AAPL?limit=120&apikey='+API_key\n",
    "df = None\n",
    "for ticker in tickers:\n",
    "    url = 'https://financialmodelingprep.com/api/v3/balance-sheet-statement/'+ticker+'?apikey='+API_key+'&limit=120'\n",
    "    data = get_jsonparsed_data(url)\n",
    "    if df is None:\n",
    "        df = pd.DataFrame([data[0]])\n",
    "    else:\n",
    "        df.loc[df.index[-1]+1] = data[0]\n",
    "print(type(data))"
   ]
  },
  {
   "cell_type": "code",
   "execution_count": 96,
   "id": "1d23822b",
   "metadata": {},
   "outputs": [
    {
     "data": {
      "text/plain": [
       "Int64Index([  0,   1,   2,   3,   4,   5,   6,   7,   8,   9,\n",
       "            ...\n",
       "             91,  92,  93,  94,  95,  96,  97,  98,  99, 100],\n",
       "           dtype='int64', length=101)"
      ]
     },
     "execution_count": 96,
     "metadata": {},
     "output_type": "execute_result"
    }
   ],
   "source": [
    "df.index"
   ]
  },
  {
   "cell_type": "code",
   "execution_count": 90,
   "id": "3d02cd43",
   "metadata": {
    "scrolled": true
   },
   "outputs": [
    {
     "data": {
      "text/html": [
       "<div>\n",
       "<style scoped>\n",
       "    .dataframe tbody tr th:only-of-type {\n",
       "        vertical-align: middle;\n",
       "    }\n",
       "\n",
       "    .dataframe tbody tr th {\n",
       "        vertical-align: top;\n",
       "    }\n",
       "\n",
       "    .dataframe thead th {\n",
       "        text-align: right;\n",
       "    }\n",
       "</style>\n",
       "<table border=\"1\" class=\"dataframe\">\n",
       "  <thead>\n",
       "    <tr style=\"text-align: right;\">\n",
       "      <th></th>\n",
       "      <th>date</th>\n",
       "      <th>symbol</th>\n",
       "      <th>reportedCurrency</th>\n",
       "      <th>cik</th>\n",
       "      <th>fillingDate</th>\n",
       "      <th>acceptedDate</th>\n",
       "      <th>calendarYear</th>\n",
       "      <th>period</th>\n",
       "      <th>cashAndCashEquivalents</th>\n",
       "      <th>shortTermInvestments</th>\n",
       "      <th>...</th>\n",
       "      <th>totalStockholdersEquity</th>\n",
       "      <th>totalEquity</th>\n",
       "      <th>totalLiabilitiesAndStockholdersEquity</th>\n",
       "      <th>minorityInterest</th>\n",
       "      <th>totalLiabilitiesAndTotalEquity</th>\n",
       "      <th>totalInvestments</th>\n",
       "      <th>totalDebt</th>\n",
       "      <th>netDebt</th>\n",
       "      <th>link</th>\n",
       "      <th>finalLink</th>\n",
       "    </tr>\n",
       "  </thead>\n",
       "  <tbody>\n",
       "    <tr>\n",
       "      <th>0</th>\n",
       "      <td>2022-09-24</td>\n",
       "      <td>AAPL</td>\n",
       "      <td>USD</td>\n",
       "      <td>0000320193</td>\n",
       "      <td>2022-10-28</td>\n",
       "      <td>2022-10-27 18:01:14</td>\n",
       "      <td>2022</td>\n",
       "      <td>FY</td>\n",
       "      <td>23646000000</td>\n",
       "      <td>24658000000</td>\n",
       "      <td>...</td>\n",
       "      <td>50672000000</td>\n",
       "      <td>50672000000</td>\n",
       "      <td>352755000000</td>\n",
       "      <td>0</td>\n",
       "      <td>352755000000</td>\n",
       "      <td>145463000000</td>\n",
       "      <td>120069000000</td>\n",
       "      <td>96423000000</td>\n",
       "      <td>https://www.sec.gov/Archives/edgar/data/320193...</td>\n",
       "      <td>https://www.sec.gov/Archives/edgar/data/320193...</td>\n",
       "    </tr>\n",
       "    <tr>\n",
       "      <th>1</th>\n",
       "      <td>2022-06-30</td>\n",
       "      <td>MSFT</td>\n",
       "      <td>USD</td>\n",
       "      <td>0000789019</td>\n",
       "      <td>2022-07-28</td>\n",
       "      <td>2022-07-28 16:06:19</td>\n",
       "      <td>2022</td>\n",
       "      <td>FY</td>\n",
       "      <td>13931000000</td>\n",
       "      <td>90826000000</td>\n",
       "      <td>...</td>\n",
       "      <td>166542000000</td>\n",
       "      <td>166542000000</td>\n",
       "      <td>364840000000</td>\n",
       "      <td>0</td>\n",
       "      <td>364840000000</td>\n",
       "      <td>97709000000</td>\n",
       "      <td>61270000000</td>\n",
       "      <td>47339000000</td>\n",
       "      <td>https://www.sec.gov/Archives/edgar/data/789019...</td>\n",
       "      <td>https://www.sec.gov/Archives/edgar/data/789019...</td>\n",
       "    </tr>\n",
       "  </tbody>\n",
       "</table>\n",
       "<p>2 rows × 54 columns</p>\n",
       "</div>"
      ],
      "text/plain": [
       "         date symbol reportedCurrency         cik fillingDate  \\\n",
       "0  2022-09-24   AAPL              USD  0000320193  2022-10-28   \n",
       "1  2022-06-30   MSFT              USD  0000789019  2022-07-28   \n",
       "\n",
       "          acceptedDate calendarYear period  cashAndCashEquivalents  \\\n",
       "0  2022-10-27 18:01:14         2022     FY             23646000000   \n",
       "1  2022-07-28 16:06:19         2022     FY             13931000000   \n",
       "\n",
       "   shortTermInvestments  ...  totalStockholdersEquity   totalEquity  \\\n",
       "0           24658000000  ...              50672000000   50672000000   \n",
       "1           90826000000  ...             166542000000  166542000000   \n",
       "\n",
       "   totalLiabilitiesAndStockholdersEquity  minorityInterest  \\\n",
       "0                           352755000000                 0   \n",
       "1                           364840000000                 0   \n",
       "\n",
       "   totalLiabilitiesAndTotalEquity  totalInvestments     totalDebt  \\\n",
       "0                    352755000000      145463000000  120069000000   \n",
       "1                    364840000000       97709000000   61270000000   \n",
       "\n",
       "       netDebt                                               link  \\\n",
       "0  96423000000  https://www.sec.gov/Archives/edgar/data/320193...   \n",
       "1  47339000000  https://www.sec.gov/Archives/edgar/data/789019...   \n",
       "\n",
       "                                           finalLink  \n",
       "0  https://www.sec.gov/Archives/edgar/data/320193...  \n",
       "1  https://www.sec.gov/Archives/edgar/data/789019...  \n",
       "\n",
       "[2 rows x 54 columns]"
      ]
     },
     "execution_count": 90,
     "metadata": {},
     "output_type": "execute_result"
    }
   ],
   "source": [
    "df"
   ]
  },
  {
   "cell_type": "code",
   "execution_count": 97,
   "id": "bfe07621",
   "metadata": {},
   "outputs": [],
   "source": [
    "df.to_csv('finmodelling.csv',index=True)"
   ]
  },
  {
   "cell_type": "code",
   "execution_count": 74,
   "id": "e00cd45b",
   "metadata": {},
   "outputs": [
    {
     "name": "stdout",
     "output_type": "stream",
     "text": [
      "dict_keys(['date', 'symbol', 'reportedCurrency', 'cik', 'fillingDate', 'acceptedDate', 'calendarYear', 'period', 'cashAndCashEquivalents', 'shortTermInvestments', 'cashAndShortTermInvestments', 'netReceivables', 'inventory', 'otherCurrentAssets', 'totalCurrentAssets', 'propertyPlantEquipmentNet', 'goodwill', 'intangibleAssets', 'goodwillAndIntangibleAssets', 'longTermInvestments', 'taxAssets', 'otherNonCurrentAssets', 'totalNonCurrentAssets', 'otherAssets', 'totalAssets', 'accountPayables', 'shortTermDebt', 'taxPayables', 'deferredRevenue', 'otherCurrentLiabilities', 'totalCurrentLiabilities', 'longTermDebt', 'deferredRevenueNonCurrent', 'deferredTaxLiabilitiesNonCurrent', 'otherNonCurrentLiabilities', 'totalNonCurrentLiabilities', 'otherLiabilities', 'capitalLeaseObligations', 'totalLiabilities', 'preferredStock', 'commonStock', 'retainedEarnings', 'accumulatedOtherComprehensiveIncomeLoss', 'othertotalStockholdersEquity', 'totalStockholdersEquity', 'totalEquity', 'totalLiabilitiesAndStockholdersEquity', 'minorityInterest', 'totalLiabilitiesAndTotalEquity', 'totalInvestments', 'totalDebt', 'netDebt', 'link', 'finalLink'])\n"
     ]
    }
   ],
   "source": [
    "print(data[0].keys())"
   ]
  },
  {
   "cell_type": "code",
   "execution_count": 21,
   "id": "dfc2e9be",
   "metadata": {},
   "outputs": [
    {
     "data": {
      "text/plain": [
       "{'date': '2022-09-24',\n",
       " 'symbol': 'AAPL',\n",
       " 'reportedCurrency': 'USD',\n",
       " 'cik': '0000320193',\n",
       " 'fillingDate': '2022-10-28',\n",
       " 'acceptedDate': '2022-10-27 18:01:14',\n",
       " 'calendarYear': '2022',\n",
       " 'period': 'FY',\n",
       " 'cashAndCashEquivalents': 23646000000,\n",
       " 'shortTermInvestments': 24658000000,\n",
       " 'cashAndShortTermInvestments': 48304000000,\n",
       " 'netReceivables': 60932000000,\n",
       " 'inventory': 4946000000,\n",
       " 'otherCurrentAssets': 21223000000,\n",
       " 'totalCurrentAssets': 135405000000,\n",
       " 'propertyPlantEquipmentNet': 42117000000,\n",
       " 'goodwill': 0,\n",
       " 'intangibleAssets': 0,\n",
       " 'goodwillAndIntangibleAssets': 0,\n",
       " 'longTermInvestments': 120805000000,\n",
       " 'taxAssets': 0,\n",
       " 'otherNonCurrentAssets': 54428000000,\n",
       " 'totalNonCurrentAssets': 217350000000,\n",
       " 'otherAssets': 0,\n",
       " 'totalAssets': 352755000000,\n",
       " 'accountPayables': 64115000000,\n",
       " 'shortTermDebt': 21110000000,\n",
       " 'taxPayables': 0,\n",
       " 'deferredRevenue': 7912000000,\n",
       " 'otherCurrentLiabilities': 60845000000,\n",
       " 'totalCurrentLiabilities': 153982000000,\n",
       " 'longTermDebt': 98959000000,\n",
       " 'deferredRevenueNonCurrent': 0,\n",
       " 'deferredTaxLiabilitiesNonCurrent': 0,\n",
       " 'otherNonCurrentLiabilities': 49142000000,\n",
       " 'totalNonCurrentLiabilities': 148101000000,\n",
       " 'otherLiabilities': 0,\n",
       " 'capitalLeaseObligations': 0,\n",
       " 'totalLiabilities': 302083000000,\n",
       " 'preferredStock': 0,\n",
       " 'commonStock': 64849000000,\n",
       " 'retainedEarnings': -3068000000,\n",
       " 'accumulatedOtherComprehensiveIncomeLoss': -11109000000,\n",
       " 'othertotalStockholdersEquity': 0,\n",
       " 'totalStockholdersEquity': 50672000000,\n",
       " 'totalEquity': 50672000000,\n",
       " 'totalLiabilitiesAndStockholdersEquity': 352755000000,\n",
       " 'minorityInterest': 0,\n",
       " 'totalLiabilitiesAndTotalEquity': 352755000000,\n",
       " 'totalInvestments': 145463000000,\n",
       " 'totalDebt': 120069000000,\n",
       " 'netDebt': 96423000000,\n",
       " 'link': 'https://www.sec.gov/Archives/edgar/data/320193/000032019322000108/0000320193-22-000108-index.htm',\n",
       " 'finalLink': 'https://www.sec.gov/Archives/edgar/data/320193/000032019322000108/aapl-20220924.htm'}"
      ]
     },
     "execution_count": 21,
     "metadata": {},
     "output_type": "execute_result"
    }
   ],
   "source": [
    "data[0]"
   ]
  },
  {
   "cell_type": "code",
   "execution_count": 35,
   "id": "ec0fb329",
   "metadata": {},
   "outputs": [
    {
     "name": "stdout",
     "output_type": "stream",
     "text": [
      "AAPL\n",
      "totalStockholdersEquity: 50672000000\n",
      "totalLiabilities: 352755000000\n",
      "debt to equity: 6.961536943479634\n"
     ]
    }
   ],
   "source": [
    "print(data[0]['symbol'])\n",
    "print('totalStockholdersEquity: '+ str(data[0]['totalStockholdersEquity']))\n",
    "print('totalLiabilities: '+str(data[0]['totalLiabilitiesAndStockholdersEquity']))\n",
    "print('debt to equity: '+str(data[0]['totalLiabilitiesAndStockholdersEquity']/data[0]['totalStockholdersEquity']))"
   ]
  },
  {
   "cell_type": "code",
   "execution_count": 62,
   "id": "25bddbec",
   "metadata": {},
   "outputs": [],
   "source": []
  }
 ],
 "metadata": {
  "kernelspec": {
   "display_name": "Python 3 (ipykernel)",
   "language": "python",
   "name": "python3"
  },
  "language_info": {
   "codemirror_mode": {
    "name": "ipython",
    "version": 3
   },
   "file_extension": ".py",
   "mimetype": "text/x-python",
   "name": "python",
   "nbconvert_exporter": "python",
   "pygments_lexer": "ipython3",
   "version": "3.11.3"
  }
 },
 "nbformat": 4,
 "nbformat_minor": 5
}
