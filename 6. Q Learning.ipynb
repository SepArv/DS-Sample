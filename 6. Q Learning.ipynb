{
 "cells": [
  {
   "cell_type": "markdown",
   "id": "ee7db3bc",
   "metadata": {},
   "source": [
    "# <b><u>This notebook is still work in progress </b></u>"
   ]
  },
  {
   "cell_type": "markdown",
   "id": "bc9e5a48",
   "metadata": {},
   "source": [
    "Notebook is dedicated for Q learning model development for stock trading. The model will be tasked to maximasing profits with given action space of \"buy\", \"sell\" or \"hold\" stocks and trained on historical data"
   ]
  },
  {
   "cell_type": "markdown",
   "id": "1ba8e845",
   "metadata": {},
   "source": [
    "<a id=\"top\"></a> \n",
    "1. [Collecting the data and processing](#01)  "
   ]
  },
  {
   "cell_type": "markdown",
   "id": "dec1f773",
   "metadata": {},
   "source": [
    "<a id=\"01\"></a> \n",
    "# Build the model\n",
    "[back to top](#top)"
   ]
  },
  {
   "cell_type": "code",
   "execution_count": null,
   "id": "17585b45",
   "metadata": {},
   "outputs": [],
   "source": []
  },
  {
   "cell_type": "code",
   "execution_count": null,
   "id": "f753afeb",
   "metadata": {},
   "outputs": [],
   "source": []
  }
 ],
 "metadata": {
  "kernelspec": {
   "display_name": "DS-Sample",
   "language": "python",
   "name": "ds-sample"
  },
  "language_info": {
   "codemirror_mode": {
    "name": "ipython",
    "version": 3
   },
   "file_extension": ".py",
   "mimetype": "text/x-python",
   "name": "python",
   "nbconvert_exporter": "python",
   "pygments_lexer": "ipython3",
   "version": "3.10.12"
  }
 },
 "nbformat": 4,
 "nbformat_minor": 5
}
