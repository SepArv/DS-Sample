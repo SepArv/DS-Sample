{
 "cells": [
  {
   "cell_type": "markdown",
   "id": "8dc9b19e",
   "metadata": {},
   "source": [
    "This notebook is still work in progress"
   ]
  },
  {
   "cell_type": "markdown",
   "id": "2cfb426f",
   "metadata": {},
   "source": [
    "<a id=\"top\"></a>  \n",
    "1. [Data collection and Processing](#01)  \n",
    "1. [Seasonal decomposition](#02)  \n"
   ]
  },
  {
   "cell_type": "markdown",
   "id": "f0d390d7",
   "metadata": {},
   "source": [
    "<a id=\"01\"></a> \n",
    "# Data collection and processing\n",
    "[back to top](#top)"
   ]
  },
  {
   "cell_type": "code",
   "execution_count": 1,
   "id": "b32f0ac1",
   "metadata": {},
   "outputs": [],
   "source": [
    "import pandas as pd\n",
    "import numpy as np\n",
    "import yfinance as yf\n",
    "#import mpld3\n",
    "#mpld3.enable_notebook()\n",
    "\n",
    "msft = yf.Ticker(\"MSFT\")\n",
    "\n",
    "# get historical market data\n",
    "data = msft.history(period=\"max\")\n",
    "\n",
    "data = data.loc[\"2010-01-01\":].copy()"
   ]
  },
  {
   "cell_type": "markdown",
   "id": "89986bf9",
   "metadata": {},
   "source": [
    "Work in progress"
   ]
  },
  {
   "cell_type": "markdown",
   "id": "21162100",
   "metadata": {},
   "source": [
    "<a id=\"02\"></a> \n",
    "# Closing price seasonal decomposition\n",
    "[back to top](#top)"
   ]
  },
  {
   "cell_type": "markdown",
   "id": "27af00f5",
   "metadata": {},
   "source": [
    "This notebook is still work in progress"
   ]
  },
  {
   "cell_type": "code",
   "execution_count": null,
   "id": "c2d9f758",
   "metadata": {},
   "outputs": [],
   "source": []
  }
 ],
 "metadata": {
  "kernelspec": {
   "display_name": "DS-Sample",
   "language": "python",
   "name": "ds-sample"
  },
  "language_info": {
   "codemirror_mode": {
    "name": "ipython",
    "version": 3
   },
   "file_extension": ".py",
   "mimetype": "text/x-python",
   "name": "python",
   "nbconvert_exporter": "python",
   "pygments_lexer": "ipython3",
   "version": "3.10.12"
  }
 },
 "nbformat": 4,
 "nbformat_minor": 5
}
